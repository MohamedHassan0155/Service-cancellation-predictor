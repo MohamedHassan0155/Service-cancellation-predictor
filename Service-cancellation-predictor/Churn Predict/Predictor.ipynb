{
  "cells": [
    {
      "cell_type": "code",
      "execution_count": 1,
      "metadata": {
        "id": "C7tmVDBNQVtn"
      },
      "outputs": [],
      "source": [
        "import numpy as np\n",
        "import pandas as pd\n",
        "import seaborn as sns\n",
        "from sklearn.model_selection import train_test_split\n",
        "from sklearn.preprocessing import MinMaxScaler\n",
        "from sklearn.metrics import accuracy_score\n",
        "import matplotlib.pyplot as plt"
      ]
    },
    {
      "cell_type": "markdown",
      "metadata": {},
      "source": [
        "### <pr> load dataset <pr>\n",
        "#### print 5 rows of the data frame"
      ]
    },
    {
      "cell_type": "code",
      "execution_count": 2,
      "metadata": {
        "colab": {
          "base_uri": "https://localhost:8080/",
          "height": 386
        },
        "id": "iQsr-vRwQaKg",
        "outputId": "b23d4d4c-1e7b-455a-e704-5bc51a393b40"
      },
      "outputs": [
        {
          "data": {
            "text/html": [
              "<div>\n",
              "<style scoped>\n",
              "    .dataframe tbody tr th:only-of-type {\n",
              "        vertical-align: middle;\n",
              "    }\n",
              "\n",
              "    .dataframe tbody tr th {\n",
              "        vertical-align: top;\n",
              "    }\n",
              "\n",
              "    .dataframe thead th {\n",
              "        text-align: right;\n",
              "    }\n",
              "</style>\n",
              "<table border=\"1\" class=\"dataframe\">\n",
              "  <thead>\n",
              "    <tr style=\"text-align: right;\">\n",
              "      <th></th>\n",
              "      <th>customerID</th>\n",
              "      <th>gender</th>\n",
              "      <th>SeniorCitizen</th>\n",
              "      <th>Partner</th>\n",
              "      <th>Dependents</th>\n",
              "      <th>tenure</th>\n",
              "      <th>PhoneService</th>\n",
              "      <th>MultipleLines</th>\n",
              "      <th>InternetService</th>\n",
              "      <th>OnlineSecurity</th>\n",
              "      <th>...</th>\n",
              "      <th>DeviceProtection</th>\n",
              "      <th>TechSupport</th>\n",
              "      <th>StreamingTV</th>\n",
              "      <th>StreamingMovies</th>\n",
              "      <th>Contract</th>\n",
              "      <th>PaperlessBilling</th>\n",
              "      <th>PaymentMethod</th>\n",
              "      <th>MonthlyCharges</th>\n",
              "      <th>TotalCharges</th>\n",
              "      <th>Churn</th>\n",
              "    </tr>\n",
              "  </thead>\n",
              "  <tbody>\n",
              "    <tr>\n",
              "      <th>0</th>\n",
              "      <td>7590-VHVEG</td>\n",
              "      <td>Female</td>\n",
              "      <td>0</td>\n",
              "      <td>Yes</td>\n",
              "      <td>No</td>\n",
              "      <td>1</td>\n",
              "      <td>No</td>\n",
              "      <td>No phone service</td>\n",
              "      <td>DSL</td>\n",
              "      <td>No</td>\n",
              "      <td>...</td>\n",
              "      <td>No</td>\n",
              "      <td>No</td>\n",
              "      <td>No</td>\n",
              "      <td>No</td>\n",
              "      <td>Month-to-month</td>\n",
              "      <td>Yes</td>\n",
              "      <td>Electronic check</td>\n",
              "      <td>29.85</td>\n",
              "      <td>29.85</td>\n",
              "      <td>No</td>\n",
              "    </tr>\n",
              "    <tr>\n",
              "      <th>1</th>\n",
              "      <td>5575-GNVDE</td>\n",
              "      <td>Male</td>\n",
              "      <td>0</td>\n",
              "      <td>No</td>\n",
              "      <td>No</td>\n",
              "      <td>34</td>\n",
              "      <td>Yes</td>\n",
              "      <td>No</td>\n",
              "      <td>DSL</td>\n",
              "      <td>Yes</td>\n",
              "      <td>...</td>\n",
              "      <td>Yes</td>\n",
              "      <td>No</td>\n",
              "      <td>No</td>\n",
              "      <td>No</td>\n",
              "      <td>One year</td>\n",
              "      <td>No</td>\n",
              "      <td>Mailed check</td>\n",
              "      <td>56.95</td>\n",
              "      <td>1889.5</td>\n",
              "      <td>No</td>\n",
              "    </tr>\n",
              "    <tr>\n",
              "      <th>2</th>\n",
              "      <td>3668-QPYBK</td>\n",
              "      <td>Male</td>\n",
              "      <td>0</td>\n",
              "      <td>No</td>\n",
              "      <td>No</td>\n",
              "      <td>2</td>\n",
              "      <td>Yes</td>\n",
              "      <td>No</td>\n",
              "      <td>DSL</td>\n",
              "      <td>Yes</td>\n",
              "      <td>...</td>\n",
              "      <td>No</td>\n",
              "      <td>No</td>\n",
              "      <td>No</td>\n",
              "      <td>No</td>\n",
              "      <td>Month-to-month</td>\n",
              "      <td>Yes</td>\n",
              "      <td>Mailed check</td>\n",
              "      <td>53.85</td>\n",
              "      <td>108.15</td>\n",
              "      <td>Yes</td>\n",
              "    </tr>\n",
              "    <tr>\n",
              "      <th>3</th>\n",
              "      <td>7795-CFOCW</td>\n",
              "      <td>Male</td>\n",
              "      <td>0</td>\n",
              "      <td>No</td>\n",
              "      <td>No</td>\n",
              "      <td>45</td>\n",
              "      <td>No</td>\n",
              "      <td>No phone service</td>\n",
              "      <td>DSL</td>\n",
              "      <td>Yes</td>\n",
              "      <td>...</td>\n",
              "      <td>Yes</td>\n",
              "      <td>Yes</td>\n",
              "      <td>No</td>\n",
              "      <td>No</td>\n",
              "      <td>One year</td>\n",
              "      <td>No</td>\n",
              "      <td>Bank transfer (automatic)</td>\n",
              "      <td>42.30</td>\n",
              "      <td>1840.75</td>\n",
              "      <td>No</td>\n",
              "    </tr>\n",
              "    <tr>\n",
              "      <th>4</th>\n",
              "      <td>9237-HQITU</td>\n",
              "      <td>Female</td>\n",
              "      <td>0</td>\n",
              "      <td>No</td>\n",
              "      <td>No</td>\n",
              "      <td>2</td>\n",
              "      <td>Yes</td>\n",
              "      <td>No</td>\n",
              "      <td>Fiber optic</td>\n",
              "      <td>No</td>\n",
              "      <td>...</td>\n",
              "      <td>No</td>\n",
              "      <td>No</td>\n",
              "      <td>No</td>\n",
              "      <td>No</td>\n",
              "      <td>Month-to-month</td>\n",
              "      <td>Yes</td>\n",
              "      <td>Electronic check</td>\n",
              "      <td>70.70</td>\n",
              "      <td>151.65</td>\n",
              "      <td>Yes</td>\n",
              "    </tr>\n",
              "  </tbody>\n",
              "</table>\n",
              "<p>5 rows × 21 columns</p>\n",
              "</div>"
            ],
            "text/plain": [
              "   customerID  gender  SeniorCitizen Partner Dependents  tenure PhoneService  \\\n",
              "0  7590-VHVEG  Female              0     Yes         No       1           No   \n",
              "1  5575-GNVDE    Male              0      No         No      34          Yes   \n",
              "2  3668-QPYBK    Male              0      No         No       2          Yes   \n",
              "3  7795-CFOCW    Male              0      No         No      45           No   \n",
              "4  9237-HQITU  Female              0      No         No       2          Yes   \n",
              "\n",
              "      MultipleLines InternetService OnlineSecurity  ... DeviceProtection  \\\n",
              "0  No phone service             DSL             No  ...               No   \n",
              "1                No             DSL            Yes  ...              Yes   \n",
              "2                No             DSL            Yes  ...               No   \n",
              "3  No phone service             DSL            Yes  ...              Yes   \n",
              "4                No     Fiber optic             No  ...               No   \n",
              "\n",
              "  TechSupport StreamingTV StreamingMovies        Contract PaperlessBilling  \\\n",
              "0          No          No              No  Month-to-month              Yes   \n",
              "1          No          No              No        One year               No   \n",
              "2          No          No              No  Month-to-month              Yes   \n",
              "3         Yes          No              No        One year               No   \n",
              "4          No          No              No  Month-to-month              Yes   \n",
              "\n",
              "               PaymentMethod MonthlyCharges  TotalCharges Churn  \n",
              "0           Electronic check          29.85         29.85    No  \n",
              "1               Mailed check          56.95        1889.5    No  \n",
              "2               Mailed check          53.85        108.15   Yes  \n",
              "3  Bank transfer (automatic)          42.30       1840.75    No  \n",
              "4           Electronic check          70.70        151.65   Yes  \n",
              "\n",
              "[5 rows x 21 columns]"
            ]
          },
          "execution_count": 2,
          "metadata": {},
          "output_type": "execute_result"
        }
      ],
      "source": [
        "CustomersDataset = pd.read_csv(\"CustomersDataset.csv\")\n",
        "CustomersDataset.head()"
      ]
    },
    {
      "cell_type": "code",
      "execution_count": 3,
      "metadata": {
        "colab": {
          "base_uri": "https://localhost:8080/"
        },
        "id": "8RRgNgveQrRg",
        "outputId": "fa968469-feff-4049-ef95-354a1c6d16d8"
      },
      "outputs": [
        {
          "data": {
            "text/plain": [
              "(7043, 21)"
            ]
          },
          "execution_count": 3,
          "metadata": {},
          "output_type": "execute_result"
        }
      ],
      "source": [
        "#number of rows and columns\n",
        "CustomersDataset.shape"
      ]
    },
    {
      "cell_type": "markdown",
      "metadata": {},
      "source": [
        "# Handel the Data or Cleaning The Data\n",
        "---"
      ]
    },
    {
      "cell_type": "code",
      "execution_count": 4,
      "metadata": {},
      "outputs": [
        {
          "name": "stdout",
          "output_type": "stream",
          "text": [
            "<class 'pandas.core.frame.DataFrame'>\n",
            "RangeIndex: 7043 entries, 0 to 7042\n",
            "Data columns (total 21 columns):\n",
            " #   Column            Non-Null Count  Dtype  \n",
            "---  ------            --------------  -----  \n",
            " 0   customerID        7043 non-null   object \n",
            " 1   gender            7043 non-null   object \n",
            " 2   SeniorCitizen     7043 non-null   int64  \n",
            " 3   Partner           7043 non-null   object \n",
            " 4   Dependents        7043 non-null   object \n",
            " 5   tenure            7043 non-null   int64  \n",
            " 6   PhoneService      7043 non-null   object \n",
            " 7   MultipleLines     7043 non-null   object \n",
            " 8   InternetService   7043 non-null   object \n",
            " 9   OnlineSecurity    7043 non-null   object \n",
            " 10  OnlineBackup      7043 non-null   object \n",
            " 11  DeviceProtection  7043 non-null   object \n",
            " 12  TechSupport       7043 non-null   object \n",
            " 13  StreamingTV       7043 non-null   object \n",
            " 14  StreamingMovies   7043 non-null   object \n",
            " 15  Contract          7043 non-null   object \n",
            " 16  PaperlessBilling  7043 non-null   object \n",
            " 17  PaymentMethod     7043 non-null   object \n",
            " 18  MonthlyCharges    7043 non-null   float64\n",
            " 19  TotalCharges      7043 non-null   object \n",
            " 20  Churn             7043 non-null   object \n",
            "dtypes: float64(1), int64(2), object(18)\n",
            "memory usage: 1.1+ MB\n"
          ]
        }
      ],
      "source": [
        "CustomersDataset.info()"
      ]
    },
    {
      "cell_type": "code",
      "execution_count": 5,
      "metadata": {
        "colab": {
          "base_uri": "https://localhost:8080/"
        },
        "id": "_CTu1MOTQwW_",
        "outputId": "3bf5289c-e47e-4735-bb6d-49a33576edfa"
      },
      "outputs": [
        {
          "data": {
            "text/plain": [
              "customerID          0\n",
              "gender              0\n",
              "SeniorCitizen       0\n",
              "Partner             0\n",
              "Dependents          0\n",
              "tenure              0\n",
              "PhoneService        0\n",
              "MultipleLines       0\n",
              "InternetService     0\n",
              "OnlineSecurity      0\n",
              "OnlineBackup        0\n",
              "DeviceProtection    0\n",
              "TechSupport         0\n",
              "StreamingTV         0\n",
              "StreamingMovies     0\n",
              "Contract            0\n",
              "PaperlessBilling    0\n",
              "PaymentMethod       0\n",
              "MonthlyCharges      0\n",
              "TotalCharges        0\n",
              "Churn               0\n",
              "dtype: int64"
            ]
          },
          "execution_count": 5,
          "metadata": {},
          "output_type": "execute_result"
        }
      ],
      "source": [
        "CustomersDataset.isnull().sum()"
      ]
    },
    {
      "cell_type": "code",
      "execution_count": 6,
      "metadata": {
        "id": "Mvu0426OQ9Of"
      },
      "outputs": [],
      "source": [
        "CustomersDataset.drop_duplicates(inplace=True)"
      ]
    },
    {
      "cell_type": "code",
      "execution_count": 7,
      "metadata": {},
      "outputs": [
        {
          "data": {
            "text/plain": [
              "7043"
            ]
          },
          "execution_count": 7,
          "metadata": {},
          "output_type": "execute_result"
        }
      ],
      "source": [
        "CustomersDataset['customerID'].unique().size"
      ]
    },
    {
      "cell_type": "markdown",
      "metadata": {},
      "source": [
        "## replacing strings by numeric values to make sense\n"
      ]
    },
    {
      "cell_type": "code",
      "execution_count": 8,
      "metadata": {
        "colab": {
          "base_uri": "https://localhost:8080/",
          "height": 386
        },
        "id": "qyTQVnfSRDuk",
        "outputId": "ab9dc7cd-d42c-430c-cf4b-25529a65e941"
      },
      "outputs": [
        {
          "data": {
            "text/html": [
              "<div>\n",
              "<style scoped>\n",
              "    .dataframe tbody tr th:only-of-type {\n",
              "        vertical-align: middle;\n",
              "    }\n",
              "\n",
              "    .dataframe tbody tr th {\n",
              "        vertical-align: top;\n",
              "    }\n",
              "\n",
              "    .dataframe thead th {\n",
              "        text-align: right;\n",
              "    }\n",
              "</style>\n",
              "<table border=\"1\" class=\"dataframe\">\n",
              "  <thead>\n",
              "    <tr style=\"text-align: right;\">\n",
              "      <th></th>\n",
              "      <th>customerID</th>\n",
              "      <th>gender</th>\n",
              "      <th>SeniorCitizen</th>\n",
              "      <th>Partner</th>\n",
              "      <th>Dependents</th>\n",
              "      <th>tenure</th>\n",
              "      <th>PhoneService</th>\n",
              "      <th>MultipleLines</th>\n",
              "      <th>InternetService</th>\n",
              "      <th>OnlineSecurity</th>\n",
              "      <th>...</th>\n",
              "      <th>DeviceProtection</th>\n",
              "      <th>TechSupport</th>\n",
              "      <th>StreamingTV</th>\n",
              "      <th>StreamingMovies</th>\n",
              "      <th>Contract</th>\n",
              "      <th>PaperlessBilling</th>\n",
              "      <th>PaymentMethod</th>\n",
              "      <th>MonthlyCharges</th>\n",
              "      <th>TotalCharges</th>\n",
              "      <th>Churn</th>\n",
              "    </tr>\n",
              "  </thead>\n",
              "  <tbody>\n",
              "    <tr>\n",
              "      <th>0</th>\n",
              "      <td>7590-VHVEG</td>\n",
              "      <td>0</td>\n",
              "      <td>0</td>\n",
              "      <td>1</td>\n",
              "      <td>0</td>\n",
              "      <td>1</td>\n",
              "      <td>0</td>\n",
              "      <td>2</td>\n",
              "      <td>0</td>\n",
              "      <td>0</td>\n",
              "      <td>...</td>\n",
              "      <td>0</td>\n",
              "      <td>0</td>\n",
              "      <td>0</td>\n",
              "      <td>0</td>\n",
              "      <td>0</td>\n",
              "      <td>1</td>\n",
              "      <td>Electronic check</td>\n",
              "      <td>29.85</td>\n",
              "      <td>29.85</td>\n",
              "      <td>0</td>\n",
              "    </tr>\n",
              "    <tr>\n",
              "      <th>1</th>\n",
              "      <td>5575-GNVDE</td>\n",
              "      <td>1</td>\n",
              "      <td>0</td>\n",
              "      <td>0</td>\n",
              "      <td>0</td>\n",
              "      <td>34</td>\n",
              "      <td>1</td>\n",
              "      <td>0</td>\n",
              "      <td>0</td>\n",
              "      <td>1</td>\n",
              "      <td>...</td>\n",
              "      <td>1</td>\n",
              "      <td>0</td>\n",
              "      <td>0</td>\n",
              "      <td>0</td>\n",
              "      <td>1</td>\n",
              "      <td>0</td>\n",
              "      <td>Mailed check</td>\n",
              "      <td>56.95</td>\n",
              "      <td>1889.5</td>\n",
              "      <td>0</td>\n",
              "    </tr>\n",
              "    <tr>\n",
              "      <th>2</th>\n",
              "      <td>3668-QPYBK</td>\n",
              "      <td>1</td>\n",
              "      <td>0</td>\n",
              "      <td>0</td>\n",
              "      <td>0</td>\n",
              "      <td>2</td>\n",
              "      <td>1</td>\n",
              "      <td>0</td>\n",
              "      <td>0</td>\n",
              "      <td>1</td>\n",
              "      <td>...</td>\n",
              "      <td>0</td>\n",
              "      <td>0</td>\n",
              "      <td>0</td>\n",
              "      <td>0</td>\n",
              "      <td>0</td>\n",
              "      <td>1</td>\n",
              "      <td>Mailed check</td>\n",
              "      <td>53.85</td>\n",
              "      <td>108.15</td>\n",
              "      <td>1</td>\n",
              "    </tr>\n",
              "    <tr>\n",
              "      <th>3</th>\n",
              "      <td>7795-CFOCW</td>\n",
              "      <td>1</td>\n",
              "      <td>0</td>\n",
              "      <td>0</td>\n",
              "      <td>0</td>\n",
              "      <td>45</td>\n",
              "      <td>0</td>\n",
              "      <td>2</td>\n",
              "      <td>0</td>\n",
              "      <td>1</td>\n",
              "      <td>...</td>\n",
              "      <td>1</td>\n",
              "      <td>1</td>\n",
              "      <td>0</td>\n",
              "      <td>0</td>\n",
              "      <td>1</td>\n",
              "      <td>0</td>\n",
              "      <td>Bank transfer (automatic)</td>\n",
              "      <td>42.30</td>\n",
              "      <td>1840.75</td>\n",
              "      <td>0</td>\n",
              "    </tr>\n",
              "    <tr>\n",
              "      <th>4</th>\n",
              "      <td>9237-HQITU</td>\n",
              "      <td>0</td>\n",
              "      <td>0</td>\n",
              "      <td>0</td>\n",
              "      <td>0</td>\n",
              "      <td>2</td>\n",
              "      <td>1</td>\n",
              "      <td>0</td>\n",
              "      <td>1</td>\n",
              "      <td>0</td>\n",
              "      <td>...</td>\n",
              "      <td>0</td>\n",
              "      <td>0</td>\n",
              "      <td>0</td>\n",
              "      <td>0</td>\n",
              "      <td>0</td>\n",
              "      <td>1</td>\n",
              "      <td>Electronic check</td>\n",
              "      <td>70.70</td>\n",
              "      <td>151.65</td>\n",
              "      <td>1</td>\n",
              "    </tr>\n",
              "  </tbody>\n",
              "</table>\n",
              "<p>5 rows × 21 columns</p>\n",
              "</div>"
            ],
            "text/plain": [
              "   customerID  gender  SeniorCitizen  Partner  Dependents  tenure  \\\n",
              "0  7590-VHVEG       0              0        1           0       1   \n",
              "1  5575-GNVDE       1              0        0           0      34   \n",
              "2  3668-QPYBK       1              0        0           0       2   \n",
              "3  7795-CFOCW       1              0        0           0      45   \n",
              "4  9237-HQITU       0              0        0           0       2   \n",
              "\n",
              "   PhoneService  MultipleLines  InternetService  OnlineSecurity  ...  \\\n",
              "0             0              2                0               0  ...   \n",
              "1             1              0                0               1  ...   \n",
              "2             1              0                0               1  ...   \n",
              "3             0              2                0               1  ...   \n",
              "4             1              0                1               0  ...   \n",
              "\n",
              "   DeviceProtection  TechSupport  StreamingTV  StreamingMovies  Contract  \\\n",
              "0                 0            0            0                0         0   \n",
              "1                 1            0            0                0         1   \n",
              "2                 0            0            0                0         0   \n",
              "3                 1            1            0                0         1   \n",
              "4                 0            0            0                0         0   \n",
              "\n",
              "   PaperlessBilling              PaymentMethod MonthlyCharges  TotalCharges  \\\n",
              "0                 1           Electronic check          29.85         29.85   \n",
              "1                 0               Mailed check          56.95        1889.5   \n",
              "2                 1               Mailed check          53.85        108.15   \n",
              "3                 0  Bank transfer (automatic)          42.30       1840.75   \n",
              "4                 1           Electronic check          70.70        151.65   \n",
              "\n",
              "  Churn  \n",
              "0     0  \n",
              "1     0  \n",
              "2     1  \n",
              "3     0  \n",
              "4     1  \n",
              "\n",
              "[5 rows x 21 columns]"
            ]
          },
          "execution_count": 8,
          "metadata": {},
          "output_type": "execute_result"
        }
      ],
      "source": [
        "CustomersDataset[\"Churn\"]=CustomersDataset[\"Churn\"].replace(['No','Yes'],[0,1])\n",
        "CustomersDataset[\"TotalCharges\"]=CustomersDataset[\"TotalCharges\"].replace([' '],[0])\n",
        "CustomersDataset[\"PaperlessBilling\"]=CustomersDataset[\"PaperlessBilling\"].replace(['No','Yes'],[0,1]) \n",
        "CustomersDataset[\"StreamingMovies\"]=CustomersDataset[\"StreamingMovies\"].replace(['No','Yes','No internet service'],[0,1,2])\n",
        "CustomersDataset[\"StreamingTV\"]=CustomersDataset[\"StreamingTV\"].replace(['No','Yes','No internet service'],[0,1,2])\n",
        "CustomersDataset[\"TechSupport\"]=CustomersDataset[\"TechSupport\"].replace(['No','Yes','No internet service'],[0,1,2])\n",
        "CustomersDataset[\"DeviceProtection\"]=CustomersDataset[\"DeviceProtection\"].replace(['No','Yes','No internet service'],[0,1,2])\n",
        "CustomersDataset[\"OnlineBackup\"]=CustomersDataset[\"OnlineBackup\"].replace(['No','Yes','No internet service'],[0,1,2])\n",
        "CustomersDataset[\"OnlineSecurity\"]=CustomersDataset[\"OnlineSecurity\"].replace(['No','Yes','No internet service'],[0,1,2])\n",
        "CustomersDataset[\"MultipleLines\"]=CustomersDataset[\"MultipleLines\"].replace(['No','Yes','No phone service'],[0,1,2])\n",
        "CustomersDataset[\"PhoneService\"]=CustomersDataset[\"PhoneService\"].replace(['No','Yes'],[0,1])\n",
        "CustomersDataset[\"Dependents\"]=CustomersDataset[\"Dependents\"].replace(['No','Yes'],[0,1])\n",
        "CustomersDataset[\"Partner\"]=CustomersDataset[\"Partner\"].replace(['No','Yes'],[0,1])\n",
        "CustomersDataset[\"gender\"]=CustomersDataset[\"gender\"].replace(['Female','Male'],[0,1])\n",
        "CustomersDataset[\"Contract\"]=CustomersDataset[\"Contract\"].replace(['Month-to-month','One year','Two year'],[0,1,2])\n",
        "CustomersDataset[\"InternetService\"]=CustomersDataset[\"InternetService\"].replace(['DSL','Fiber optic','No'],[0,1,2])\n",
        "\n",
        "CustomersDataset.head()"
      ]
    },
    {
      "cell_type": "code",
      "execution_count": 9,
      "metadata": {
        "colab": {
          "base_uri": "https://localhost:8080/",
          "height": 678
        },
        "id": "gQ0AKMVORDw-",
        "outputId": "107e6db8-c144-4a77-c703-df01ca1ed33c"
      },
      "outputs": [
        {
          "data": {
            "text/html": [
              "<div>\n",
              "<style scoped>\n",
              "    .dataframe tbody tr th:only-of-type {\n",
              "        vertical-align: middle;\n",
              "    }\n",
              "\n",
              "    .dataframe tbody tr th {\n",
              "        vertical-align: top;\n",
              "    }\n",
              "\n",
              "    .dataframe thead th {\n",
              "        text-align: right;\n",
              "    }\n",
              "</style>\n",
              "<table border=\"1\" class=\"dataframe\">\n",
              "  <thead>\n",
              "    <tr style=\"text-align: right;\">\n",
              "      <th></th>\n",
              "      <th>gender</th>\n",
              "      <th>SeniorCitizen</th>\n",
              "      <th>Partner</th>\n",
              "      <th>Dependents</th>\n",
              "      <th>tenure</th>\n",
              "      <th>PhoneService</th>\n",
              "      <th>MultipleLines</th>\n",
              "      <th>InternetService</th>\n",
              "      <th>OnlineSecurity</th>\n",
              "      <th>OnlineBackup</th>\n",
              "      <th>DeviceProtection</th>\n",
              "      <th>TechSupport</th>\n",
              "      <th>StreamingTV</th>\n",
              "      <th>StreamingMovies</th>\n",
              "      <th>Contract</th>\n",
              "      <th>PaperlessBilling</th>\n",
              "      <th>MonthlyCharges</th>\n",
              "      <th>Churn</th>\n",
              "    </tr>\n",
              "  </thead>\n",
              "  <tbody>\n",
              "    <tr>\n",
              "      <th>gender</th>\n",
              "      <td>1.000000</td>\n",
              "      <td>-0.001874</td>\n",
              "      <td>-0.001808</td>\n",
              "      <td>0.010517</td>\n",
              "      <td>0.005106</td>\n",
              "      <td>-0.006488</td>\n",
              "      <td>-0.000485</td>\n",
              "      <td>-0.000863</td>\n",
              "      <td>-0.003429</td>\n",
              "      <td>-0.002032</td>\n",
              "      <td>0.005092</td>\n",
              "      <td>0.000985</td>\n",
              "      <td>0.001156</td>\n",
              "      <td>-0.000191</td>\n",
              "      <td>0.000126</td>\n",
              "      <td>-0.011754</td>\n",
              "      <td>-0.014569</td>\n",
              "      <td>-0.008612</td>\n",
              "    </tr>\n",
              "    <tr>\n",
              "      <th>SeniorCitizen</th>\n",
              "      <td>-0.001874</td>\n",
              "      <td>1.000000</td>\n",
              "      <td>0.016479</td>\n",
              "      <td>-0.211185</td>\n",
              "      <td>0.016567</td>\n",
              "      <td>0.008576</td>\n",
              "      <td>0.099883</td>\n",
              "      <td>-0.032310</td>\n",
              "      <td>-0.210897</td>\n",
              "      <td>-0.152780</td>\n",
              "      <td>-0.157095</td>\n",
              "      <td>-0.223770</td>\n",
              "      <td>-0.130130</td>\n",
              "      <td>-0.120802</td>\n",
              "      <td>-0.142554</td>\n",
              "      <td>0.156530</td>\n",
              "      <td>0.220173</td>\n",
              "      <td>0.150889</td>\n",
              "    </tr>\n",
              "    <tr>\n",
              "      <th>Partner</th>\n",
              "      <td>-0.001808</td>\n",
              "      <td>0.016479</td>\n",
              "      <td>1.000000</td>\n",
              "      <td>0.452676</td>\n",
              "      <td>0.379697</td>\n",
              "      <td>0.017706</td>\n",
              "      <td>0.090981</td>\n",
              "      <td>0.000891</td>\n",
              "      <td>0.081850</td>\n",
              "      <td>0.087055</td>\n",
              "      <td>0.094451</td>\n",
              "      <td>0.069072</td>\n",
              "      <td>0.080127</td>\n",
              "      <td>0.075779</td>\n",
              "      <td>0.294806</td>\n",
              "      <td>-0.014877</td>\n",
              "      <td>0.096848</td>\n",
              "      <td>-0.150448</td>\n",
              "    </tr>\n",
              "    <tr>\n",
              "      <th>Dependents</th>\n",
              "      <td>0.010517</td>\n",
              "      <td>-0.211185</td>\n",
              "      <td>0.452676</td>\n",
              "      <td>1.000000</td>\n",
              "      <td>0.159712</td>\n",
              "      <td>-0.001762</td>\n",
              "      <td>-0.016875</td>\n",
              "      <td>0.044590</td>\n",
              "      <td>0.190523</td>\n",
              "      <td>0.162445</td>\n",
              "      <td>0.156439</td>\n",
              "      <td>0.180832</td>\n",
              "      <td>0.140395</td>\n",
              "      <td>0.125820</td>\n",
              "      <td>0.243187</td>\n",
              "      <td>-0.111377</td>\n",
              "      <td>-0.113890</td>\n",
              "      <td>-0.164221</td>\n",
              "    </tr>\n",
              "    <tr>\n",
              "      <th>tenure</th>\n",
              "      <td>0.005106</td>\n",
              "      <td>0.016567</td>\n",
              "      <td>0.379697</td>\n",
              "      <td>0.159712</td>\n",
              "      <td>1.000000</td>\n",
              "      <td>0.008448</td>\n",
              "      <td>0.242279</td>\n",
              "      <td>-0.030359</td>\n",
              "      <td>0.145298</td>\n",
              "      <td>0.178651</td>\n",
              "      <td>0.178649</td>\n",
              "      <td>0.144459</td>\n",
              "      <td>0.136145</td>\n",
              "      <td>0.140781</td>\n",
              "      <td>0.671607</td>\n",
              "      <td>0.006152</td>\n",
              "      <td>0.247900</td>\n",
              "      <td>-0.352229</td>\n",
              "    </tr>\n",
              "    <tr>\n",
              "      <th>PhoneService</th>\n",
              "      <td>-0.006488</td>\n",
              "      <td>0.008576</td>\n",
              "      <td>0.017706</td>\n",
              "      <td>-0.001762</td>\n",
              "      <td>0.008448</td>\n",
              "      <td>1.000000</td>\n",
              "      <td>-0.691070</td>\n",
              "      <td>0.387436</td>\n",
              "      <td>0.125353</td>\n",
              "      <td>0.150338</td>\n",
              "      <td>0.138755</td>\n",
              "      <td>0.123350</td>\n",
              "      <td>0.171538</td>\n",
              "      <td>0.165205</td>\n",
              "      <td>0.002247</td>\n",
              "      <td>0.016505</td>\n",
              "      <td>0.247398</td>\n",
              "      <td>0.011942</td>\n",
              "    </tr>\n",
              "    <tr>\n",
              "      <th>MultipleLines</th>\n",
              "      <td>-0.000485</td>\n",
              "      <td>0.099883</td>\n",
              "      <td>0.090981</td>\n",
              "      <td>-0.016875</td>\n",
              "      <td>0.242279</td>\n",
              "      <td>-0.691070</td>\n",
              "      <td>1.000000</td>\n",
              "      <td>-0.340949</td>\n",
              "      <td>-0.235021</td>\n",
              "      <td>-0.210372</td>\n",
              "      <td>-0.200463</td>\n",
              "      <td>-0.232155</td>\n",
              "      <td>-0.202414</td>\n",
              "      <td>-0.195815</td>\n",
              "      <td>0.078613</td>\n",
              "      <td>0.108230</td>\n",
              "      <td>0.146153</td>\n",
              "      <td>0.019423</td>\n",
              "    </tr>\n",
              "    <tr>\n",
              "      <th>InternetService</th>\n",
              "      <td>-0.000863</td>\n",
              "      <td>-0.032310</td>\n",
              "      <td>0.000891</td>\n",
              "      <td>0.044590</td>\n",
              "      <td>-0.030359</td>\n",
              "      <td>0.387436</td>\n",
              "      <td>-0.340949</td>\n",
              "      <td>1.000000</td>\n",
              "      <td>0.607788</td>\n",
              "      <td>0.658287</td>\n",
              "      <td>0.662957</td>\n",
              "      <td>0.609795</td>\n",
              "      <td>0.712890</td>\n",
              "      <td>0.709020</td>\n",
              "      <td>0.099721</td>\n",
              "      <td>-0.138625</td>\n",
              "      <td>-0.323260</td>\n",
              "      <td>-0.047291</td>\n",
              "    </tr>\n",
              "    <tr>\n",
              "      <th>OnlineSecurity</th>\n",
              "      <td>-0.003429</td>\n",
              "      <td>-0.210897</td>\n",
              "      <td>0.081850</td>\n",
              "      <td>0.190523</td>\n",
              "      <td>0.145298</td>\n",
              "      <td>0.125353</td>\n",
              "      <td>-0.235021</td>\n",
              "      <td>0.607788</td>\n",
              "      <td>1.000000</td>\n",
              "      <td>0.751661</td>\n",
              "      <td>0.749040</td>\n",
              "      <td>0.791225</td>\n",
              "      <td>0.701976</td>\n",
              "      <td>0.704984</td>\n",
              "      <td>0.389978</td>\n",
              "      <td>-0.334003</td>\n",
              "      <td>-0.621227</td>\n",
              "      <td>-0.332819</td>\n",
              "    </tr>\n",
              "    <tr>\n",
              "      <th>OnlineBackup</th>\n",
              "      <td>-0.002032</td>\n",
              "      <td>-0.152780</td>\n",
              "      <td>0.087055</td>\n",
              "      <td>0.162445</td>\n",
              "      <td>0.178651</td>\n",
              "      <td>0.150338</td>\n",
              "      <td>-0.210372</td>\n",
              "      <td>0.658287</td>\n",
              "      <td>0.751661</td>\n",
              "      <td>1.000000</td>\n",
              "      <td>0.740604</td>\n",
              "      <td>0.754095</td>\n",
              "      <td>0.720671</td>\n",
              "      <td>0.716700</td>\n",
              "      <td>0.351267</td>\n",
              "      <td>-0.262402</td>\n",
              "      <td>-0.538454</td>\n",
              "      <td>-0.291449</td>\n",
              "    </tr>\n",
              "    <tr>\n",
              "      <th>DeviceProtection</th>\n",
              "      <td>0.005092</td>\n",
              "      <td>-0.157095</td>\n",
              "      <td>0.094451</td>\n",
              "      <td>0.156439</td>\n",
              "      <td>0.178649</td>\n",
              "      <td>0.138755</td>\n",
              "      <td>-0.200463</td>\n",
              "      <td>0.662957</td>\n",
              "      <td>0.749040</td>\n",
              "      <td>0.740604</td>\n",
              "      <td>1.000000</td>\n",
              "      <td>0.767970</td>\n",
              "      <td>0.763279</td>\n",
              "      <td>0.766821</td>\n",
              "      <td>0.390216</td>\n",
              "      <td>-0.276326</td>\n",
              "      <td>-0.513440</td>\n",
              "      <td>-0.281465</td>\n",
              "    </tr>\n",
              "    <tr>\n",
              "      <th>TechSupport</th>\n",
              "      <td>0.000985</td>\n",
              "      <td>-0.223770</td>\n",
              "      <td>0.069072</td>\n",
              "      <td>0.180832</td>\n",
              "      <td>0.144459</td>\n",
              "      <td>0.123350</td>\n",
              "      <td>-0.232155</td>\n",
              "      <td>0.609795</td>\n",
              "      <td>0.791225</td>\n",
              "      <td>0.754095</td>\n",
              "      <td>0.767970</td>\n",
              "      <td>1.000000</td>\n",
              "      <td>0.737578</td>\n",
              "      <td>0.737123</td>\n",
              "      <td>0.418440</td>\n",
              "      <td>-0.310749</td>\n",
              "      <td>-0.597594</td>\n",
              "      <td>-0.329852</td>\n",
              "    </tr>\n",
              "    <tr>\n",
              "      <th>StreamingTV</th>\n",
              "      <td>0.001156</td>\n",
              "      <td>-0.130130</td>\n",
              "      <td>0.080127</td>\n",
              "      <td>0.140395</td>\n",
              "      <td>0.136145</td>\n",
              "      <td>0.171538</td>\n",
              "      <td>-0.202414</td>\n",
              "      <td>0.712890</td>\n",
              "      <td>0.701976</td>\n",
              "      <td>0.720671</td>\n",
              "      <td>0.763279</td>\n",
              "      <td>0.737578</td>\n",
              "      <td>1.000000</td>\n",
              "      <td>0.809608</td>\n",
              "      <td>0.327951</td>\n",
              "      <td>-0.203907</td>\n",
              "      <td>-0.423067</td>\n",
              "      <td>-0.205742</td>\n",
              "    </tr>\n",
              "    <tr>\n",
              "      <th>StreamingMovies</th>\n",
              "      <td>-0.000191</td>\n",
              "      <td>-0.120802</td>\n",
              "      <td>0.075779</td>\n",
              "      <td>0.125820</td>\n",
              "      <td>0.140781</td>\n",
              "      <td>0.165205</td>\n",
              "      <td>-0.195815</td>\n",
              "      <td>0.709020</td>\n",
              "      <td>0.704984</td>\n",
              "      <td>0.716700</td>\n",
              "      <td>0.766821</td>\n",
              "      <td>0.737123</td>\n",
              "      <td>0.809608</td>\n",
              "      <td>1.000000</td>\n",
              "      <td>0.330993</td>\n",
              "      <td>-0.211818</td>\n",
              "      <td>-0.424598</td>\n",
              "      <td>-0.207256</td>\n",
              "    </tr>\n",
              "    <tr>\n",
              "      <th>Contract</th>\n",
              "      <td>0.000126</td>\n",
              "      <td>-0.142554</td>\n",
              "      <td>0.294806</td>\n",
              "      <td>0.243187</td>\n",
              "      <td>0.671607</td>\n",
              "      <td>0.002247</td>\n",
              "      <td>0.078613</td>\n",
              "      <td>0.099721</td>\n",
              "      <td>0.389978</td>\n",
              "      <td>0.351267</td>\n",
              "      <td>0.390216</td>\n",
              "      <td>0.418440</td>\n",
              "      <td>0.327951</td>\n",
              "      <td>0.330993</td>\n",
              "      <td>1.000000</td>\n",
              "      <td>-0.176733</td>\n",
              "      <td>-0.074195</td>\n",
              "      <td>-0.396713</td>\n",
              "    </tr>\n",
              "    <tr>\n",
              "      <th>PaperlessBilling</th>\n",
              "      <td>-0.011754</td>\n",
              "      <td>0.156530</td>\n",
              "      <td>-0.014877</td>\n",
              "      <td>-0.111377</td>\n",
              "      <td>0.006152</td>\n",
              "      <td>0.016505</td>\n",
              "      <td>0.108230</td>\n",
              "      <td>-0.138625</td>\n",
              "      <td>-0.334003</td>\n",
              "      <td>-0.262402</td>\n",
              "      <td>-0.276326</td>\n",
              "      <td>-0.310749</td>\n",
              "      <td>-0.203907</td>\n",
              "      <td>-0.211818</td>\n",
              "      <td>-0.176733</td>\n",
              "      <td>1.000000</td>\n",
              "      <td>0.352150</td>\n",
              "      <td>0.191825</td>\n",
              "    </tr>\n",
              "    <tr>\n",
              "      <th>MonthlyCharges</th>\n",
              "      <td>-0.014569</td>\n",
              "      <td>0.220173</td>\n",
              "      <td>0.096848</td>\n",
              "      <td>-0.113890</td>\n",
              "      <td>0.247900</td>\n",
              "      <td>0.247398</td>\n",
              "      <td>0.146153</td>\n",
              "      <td>-0.323260</td>\n",
              "      <td>-0.621227</td>\n",
              "      <td>-0.538454</td>\n",
              "      <td>-0.513440</td>\n",
              "      <td>-0.597594</td>\n",
              "      <td>-0.423067</td>\n",
              "      <td>-0.424598</td>\n",
              "      <td>-0.074195</td>\n",
              "      <td>0.352150</td>\n",
              "      <td>1.000000</td>\n",
              "      <td>0.193356</td>\n",
              "    </tr>\n",
              "    <tr>\n",
              "      <th>Churn</th>\n",
              "      <td>-0.008612</td>\n",
              "      <td>0.150889</td>\n",
              "      <td>-0.150448</td>\n",
              "      <td>-0.164221</td>\n",
              "      <td>-0.352229</td>\n",
              "      <td>0.011942</td>\n",
              "      <td>0.019423</td>\n",
              "      <td>-0.047291</td>\n",
              "      <td>-0.332819</td>\n",
              "      <td>-0.291449</td>\n",
              "      <td>-0.281465</td>\n",
              "      <td>-0.329852</td>\n",
              "      <td>-0.205742</td>\n",
              "      <td>-0.207256</td>\n",
              "      <td>-0.396713</td>\n",
              "      <td>0.191825</td>\n",
              "      <td>0.193356</td>\n",
              "      <td>1.000000</td>\n",
              "    </tr>\n",
              "  </tbody>\n",
              "</table>\n",
              "</div>"
            ],
            "text/plain": [
              "                    gender  SeniorCitizen   Partner  Dependents    tenure  \\\n",
              "gender            1.000000      -0.001874 -0.001808    0.010517  0.005106   \n",
              "SeniorCitizen    -0.001874       1.000000  0.016479   -0.211185  0.016567   \n",
              "Partner          -0.001808       0.016479  1.000000    0.452676  0.379697   \n",
              "Dependents        0.010517      -0.211185  0.452676    1.000000  0.159712   \n",
              "tenure            0.005106       0.016567  0.379697    0.159712  1.000000   \n",
              "PhoneService     -0.006488       0.008576  0.017706   -0.001762  0.008448   \n",
              "MultipleLines    -0.000485       0.099883  0.090981   -0.016875  0.242279   \n",
              "InternetService  -0.000863      -0.032310  0.000891    0.044590 -0.030359   \n",
              "OnlineSecurity   -0.003429      -0.210897  0.081850    0.190523  0.145298   \n",
              "OnlineBackup     -0.002032      -0.152780  0.087055    0.162445  0.178651   \n",
              "DeviceProtection  0.005092      -0.157095  0.094451    0.156439  0.178649   \n",
              "TechSupport       0.000985      -0.223770  0.069072    0.180832  0.144459   \n",
              "StreamingTV       0.001156      -0.130130  0.080127    0.140395  0.136145   \n",
              "StreamingMovies  -0.000191      -0.120802  0.075779    0.125820  0.140781   \n",
              "Contract          0.000126      -0.142554  0.294806    0.243187  0.671607   \n",
              "PaperlessBilling -0.011754       0.156530 -0.014877   -0.111377  0.006152   \n",
              "MonthlyCharges   -0.014569       0.220173  0.096848   -0.113890  0.247900   \n",
              "Churn            -0.008612       0.150889 -0.150448   -0.164221 -0.352229   \n",
              "\n",
              "                  PhoneService  MultipleLines  InternetService  \\\n",
              "gender               -0.006488      -0.000485        -0.000863   \n",
              "SeniorCitizen         0.008576       0.099883        -0.032310   \n",
              "Partner               0.017706       0.090981         0.000891   \n",
              "Dependents           -0.001762      -0.016875         0.044590   \n",
              "tenure                0.008448       0.242279        -0.030359   \n",
              "PhoneService          1.000000      -0.691070         0.387436   \n",
              "MultipleLines        -0.691070       1.000000        -0.340949   \n",
              "InternetService       0.387436      -0.340949         1.000000   \n",
              "OnlineSecurity        0.125353      -0.235021         0.607788   \n",
              "OnlineBackup          0.150338      -0.210372         0.658287   \n",
              "DeviceProtection      0.138755      -0.200463         0.662957   \n",
              "TechSupport           0.123350      -0.232155         0.609795   \n",
              "StreamingTV           0.171538      -0.202414         0.712890   \n",
              "StreamingMovies       0.165205      -0.195815         0.709020   \n",
              "Contract              0.002247       0.078613         0.099721   \n",
              "PaperlessBilling      0.016505       0.108230        -0.138625   \n",
              "MonthlyCharges        0.247398       0.146153        -0.323260   \n",
              "Churn                 0.011942       0.019423        -0.047291   \n",
              "\n",
              "                  OnlineSecurity  OnlineBackup  DeviceProtection  TechSupport  \\\n",
              "gender                 -0.003429     -0.002032          0.005092     0.000985   \n",
              "SeniorCitizen          -0.210897     -0.152780         -0.157095    -0.223770   \n",
              "Partner                 0.081850      0.087055          0.094451     0.069072   \n",
              "Dependents              0.190523      0.162445          0.156439     0.180832   \n",
              "tenure                  0.145298      0.178651          0.178649     0.144459   \n",
              "PhoneService            0.125353      0.150338          0.138755     0.123350   \n",
              "MultipleLines          -0.235021     -0.210372         -0.200463    -0.232155   \n",
              "InternetService         0.607788      0.658287          0.662957     0.609795   \n",
              "OnlineSecurity          1.000000      0.751661          0.749040     0.791225   \n",
              "OnlineBackup            0.751661      1.000000          0.740604     0.754095   \n",
              "DeviceProtection        0.749040      0.740604          1.000000     0.767970   \n",
              "TechSupport             0.791225      0.754095          0.767970     1.000000   \n",
              "StreamingTV             0.701976      0.720671          0.763279     0.737578   \n",
              "StreamingMovies         0.704984      0.716700          0.766821     0.737123   \n",
              "Contract                0.389978      0.351267          0.390216     0.418440   \n",
              "PaperlessBilling       -0.334003     -0.262402         -0.276326    -0.310749   \n",
              "MonthlyCharges         -0.621227     -0.538454         -0.513440    -0.597594   \n",
              "Churn                  -0.332819     -0.291449         -0.281465    -0.329852   \n",
              "\n",
              "                  StreamingTV  StreamingMovies  Contract  PaperlessBilling  \\\n",
              "gender               0.001156        -0.000191  0.000126         -0.011754   \n",
              "SeniorCitizen       -0.130130        -0.120802 -0.142554          0.156530   \n",
              "Partner              0.080127         0.075779  0.294806         -0.014877   \n",
              "Dependents           0.140395         0.125820  0.243187         -0.111377   \n",
              "tenure               0.136145         0.140781  0.671607          0.006152   \n",
              "PhoneService         0.171538         0.165205  0.002247          0.016505   \n",
              "MultipleLines       -0.202414        -0.195815  0.078613          0.108230   \n",
              "InternetService      0.712890         0.709020  0.099721         -0.138625   \n",
              "OnlineSecurity       0.701976         0.704984  0.389978         -0.334003   \n",
              "OnlineBackup         0.720671         0.716700  0.351267         -0.262402   \n",
              "DeviceProtection     0.763279         0.766821  0.390216         -0.276326   \n",
              "TechSupport          0.737578         0.737123  0.418440         -0.310749   \n",
              "StreamingTV          1.000000         0.809608  0.327951         -0.203907   \n",
              "StreamingMovies      0.809608         1.000000  0.330993         -0.211818   \n",
              "Contract             0.327951         0.330993  1.000000         -0.176733   \n",
              "PaperlessBilling    -0.203907        -0.211818 -0.176733          1.000000   \n",
              "MonthlyCharges      -0.423067        -0.424598 -0.074195          0.352150   \n",
              "Churn               -0.205742        -0.207256 -0.396713          0.191825   \n",
              "\n",
              "                  MonthlyCharges     Churn  \n",
              "gender                 -0.014569 -0.008612  \n",
              "SeniorCitizen           0.220173  0.150889  \n",
              "Partner                 0.096848 -0.150448  \n",
              "Dependents             -0.113890 -0.164221  \n",
              "tenure                  0.247900 -0.352229  \n",
              "PhoneService            0.247398  0.011942  \n",
              "MultipleLines           0.146153  0.019423  \n",
              "InternetService        -0.323260 -0.047291  \n",
              "OnlineSecurity         -0.621227 -0.332819  \n",
              "OnlineBackup           -0.538454 -0.291449  \n",
              "DeviceProtection       -0.513440 -0.281465  \n",
              "TechSupport            -0.597594 -0.329852  \n",
              "StreamingTV            -0.423067 -0.205742  \n",
              "StreamingMovies        -0.424598 -0.207256  \n",
              "Contract               -0.074195 -0.396713  \n",
              "PaperlessBilling        0.352150  0.191825  \n",
              "MonthlyCharges          1.000000  0.193356  \n",
              "Churn                   0.193356  1.000000  "
            ]
          },
          "execution_count": 9,
          "metadata": {},
          "output_type": "execute_result"
        }
      ],
      "source": [
        "CustomersDataset.corr()"
      ]
    },
    {
      "cell_type": "markdown",
      "metadata": {},
      "source": [
        "# Drop any features that will not affect our prediction\n"
      ]
    },
    {
      "cell_type": "code",
      "execution_count": 10,
      "metadata": {
        "id": "VCLIh-HXRD0i"
      },
      "outputs": [],
      "source": [
        "CustomersDataset.drop(['customerID','PaymentMethod'],axis=1,inplace=True)"
      ]
    },
    {
      "cell_type": "markdown",
      "metadata": {},
      "source": [
        "## to avoid any OverFlow"
      ]
    },
    {
      "cell_type": "code",
      "execution_count": 11,
      "metadata": {},
      "outputs": [
        {
          "data": {
            "text/plain": [
              "Index(['gender', 'SeniorCitizen', 'Partner', 'Dependents', 'tenure',\n",
              "       'PhoneService', 'MultipleLines', 'InternetService', 'OnlineSecurity',\n",
              "       'OnlineBackup', 'DeviceProtection', 'TechSupport', 'StreamingTV',\n",
              "       'StreamingMovies', 'Contract', 'PaperlessBilling', 'MonthlyCharges',\n",
              "       'TotalCharges', 'Churn'],\n",
              "      dtype='object')"
            ]
          },
          "execution_count": 11,
          "metadata": {},
          "output_type": "execute_result"
        }
      ],
      "source": [
        "CustomersDataset.columns"
      ]
    },
    {
      "cell_type": "code",
      "execution_count": 12,
      "metadata": {
        "colab": {
          "base_uri": "https://localhost:8080/",
          "height": 270
        },
        "id": "dtA9vCZgedOi",
        "outputId": "d150454d-8e30-4720-c003-b0ac8d5b1e0b"
      },
      "outputs": [
        {
          "data": {
            "text/html": [
              "<div>\n",
              "<style scoped>\n",
              "    .dataframe tbody tr th:only-of-type {\n",
              "        vertical-align: middle;\n",
              "    }\n",
              "\n",
              "    .dataframe tbody tr th {\n",
              "        vertical-align: top;\n",
              "    }\n",
              "\n",
              "    .dataframe thead th {\n",
              "        text-align: right;\n",
              "    }\n",
              "</style>\n",
              "<table border=\"1\" class=\"dataframe\">\n",
              "  <thead>\n",
              "    <tr style=\"text-align: right;\">\n",
              "      <th></th>\n",
              "      <th>gender</th>\n",
              "      <th>SeniorCitizen</th>\n",
              "      <th>Partner</th>\n",
              "      <th>Dependents</th>\n",
              "      <th>tenure</th>\n",
              "      <th>PhoneService</th>\n",
              "      <th>MultipleLines</th>\n",
              "      <th>InternetService</th>\n",
              "      <th>OnlineSecurity</th>\n",
              "      <th>OnlineBackup</th>\n",
              "      <th>DeviceProtection</th>\n",
              "      <th>TechSupport</th>\n",
              "      <th>StreamingTV</th>\n",
              "      <th>StreamingMovies</th>\n",
              "      <th>Contract</th>\n",
              "      <th>PaperlessBilling</th>\n",
              "      <th>MonthlyCharges</th>\n",
              "      <th>TotalCharges</th>\n",
              "      <th>Churn</th>\n",
              "    </tr>\n",
              "  </thead>\n",
              "  <tbody>\n",
              "    <tr>\n",
              "      <th>0</th>\n",
              "      <td>0.0</td>\n",
              "      <td>0.0</td>\n",
              "      <td>1.0</td>\n",
              "      <td>0.0</td>\n",
              "      <td>0.013889</td>\n",
              "      <td>0.0</td>\n",
              "      <td>1.0</td>\n",
              "      <td>0.0</td>\n",
              "      <td>0.0</td>\n",
              "      <td>0.5</td>\n",
              "      <td>0.0</td>\n",
              "      <td>0.0</td>\n",
              "      <td>0.0</td>\n",
              "      <td>0.0</td>\n",
              "      <td>0.0</td>\n",
              "      <td>1.0</td>\n",
              "      <td>0.115423</td>\n",
              "      <td>0.003437</td>\n",
              "      <td>0.0</td>\n",
              "    </tr>\n",
              "    <tr>\n",
              "      <th>1</th>\n",
              "      <td>1.0</td>\n",
              "      <td>0.0</td>\n",
              "      <td>0.0</td>\n",
              "      <td>0.0</td>\n",
              "      <td>0.472222</td>\n",
              "      <td>1.0</td>\n",
              "      <td>0.0</td>\n",
              "      <td>0.0</td>\n",
              "      <td>0.5</td>\n",
              "      <td>0.0</td>\n",
              "      <td>0.5</td>\n",
              "      <td>0.0</td>\n",
              "      <td>0.0</td>\n",
              "      <td>0.0</td>\n",
              "      <td>0.5</td>\n",
              "      <td>0.0</td>\n",
              "      <td>0.385075</td>\n",
              "      <td>0.217564</td>\n",
              "      <td>0.0</td>\n",
              "    </tr>\n",
              "    <tr>\n",
              "      <th>2</th>\n",
              "      <td>1.0</td>\n",
              "      <td>0.0</td>\n",
              "      <td>0.0</td>\n",
              "      <td>0.0</td>\n",
              "      <td>0.027778</td>\n",
              "      <td>1.0</td>\n",
              "      <td>0.0</td>\n",
              "      <td>0.0</td>\n",
              "      <td>0.5</td>\n",
              "      <td>0.5</td>\n",
              "      <td>0.0</td>\n",
              "      <td>0.0</td>\n",
              "      <td>0.0</td>\n",
              "      <td>0.0</td>\n",
              "      <td>0.0</td>\n",
              "      <td>1.0</td>\n",
              "      <td>0.354229</td>\n",
              "      <td>0.012453</td>\n",
              "      <td>1.0</td>\n",
              "    </tr>\n",
              "    <tr>\n",
              "      <th>3</th>\n",
              "      <td>1.0</td>\n",
              "      <td>0.0</td>\n",
              "      <td>0.0</td>\n",
              "      <td>0.0</td>\n",
              "      <td>0.625000</td>\n",
              "      <td>0.0</td>\n",
              "      <td>1.0</td>\n",
              "      <td>0.0</td>\n",
              "      <td>0.5</td>\n",
              "      <td>0.0</td>\n",
              "      <td>0.5</td>\n",
              "      <td>0.5</td>\n",
              "      <td>0.0</td>\n",
              "      <td>0.0</td>\n",
              "      <td>0.5</td>\n",
              "      <td>0.0</td>\n",
              "      <td>0.239303</td>\n",
              "      <td>0.211951</td>\n",
              "      <td>0.0</td>\n",
              "    </tr>\n",
              "    <tr>\n",
              "      <th>4</th>\n",
              "      <td>0.0</td>\n",
              "      <td>0.0</td>\n",
              "      <td>0.0</td>\n",
              "      <td>0.0</td>\n",
              "      <td>0.027778</td>\n",
              "      <td>1.0</td>\n",
              "      <td>0.0</td>\n",
              "      <td>0.5</td>\n",
              "      <td>0.0</td>\n",
              "      <td>0.0</td>\n",
              "      <td>0.0</td>\n",
              "      <td>0.0</td>\n",
              "      <td>0.0</td>\n",
              "      <td>0.0</td>\n",
              "      <td>0.0</td>\n",
              "      <td>1.0</td>\n",
              "      <td>0.521891</td>\n",
              "      <td>0.017462</td>\n",
              "      <td>1.0</td>\n",
              "    </tr>\n",
              "  </tbody>\n",
              "</table>\n",
              "</div>"
            ],
            "text/plain": [
              "   gender  SeniorCitizen  Partner  Dependents    tenure  PhoneService  \\\n",
              "0     0.0            0.0      1.0         0.0  0.013889           0.0   \n",
              "1     1.0            0.0      0.0         0.0  0.472222           1.0   \n",
              "2     1.0            0.0      0.0         0.0  0.027778           1.0   \n",
              "3     1.0            0.0      0.0         0.0  0.625000           0.0   \n",
              "4     0.0            0.0      0.0         0.0  0.027778           1.0   \n",
              "\n",
              "   MultipleLines  InternetService  OnlineSecurity  OnlineBackup  \\\n",
              "0            1.0              0.0             0.0           0.5   \n",
              "1            0.0              0.0             0.5           0.0   \n",
              "2            0.0              0.0             0.5           0.5   \n",
              "3            1.0              0.0             0.5           0.0   \n",
              "4            0.0              0.5             0.0           0.0   \n",
              "\n",
              "   DeviceProtection  TechSupport  StreamingTV  StreamingMovies  Contract  \\\n",
              "0               0.0          0.0          0.0              0.0       0.0   \n",
              "1               0.5          0.0          0.0              0.0       0.5   \n",
              "2               0.0          0.0          0.0              0.0       0.0   \n",
              "3               0.5          0.5          0.0              0.0       0.5   \n",
              "4               0.0          0.0          0.0              0.0       0.0   \n",
              "\n",
              "   PaperlessBilling  MonthlyCharges  TotalCharges  Churn  \n",
              "0               1.0        0.115423      0.003437    0.0  \n",
              "1               0.0        0.385075      0.217564    0.0  \n",
              "2               1.0        0.354229      0.012453    1.0  \n",
              "3               0.0        0.239303      0.211951    0.0  \n",
              "4               1.0        0.521891      0.017462    1.0  "
            ]
          },
          "execution_count": 12,
          "metadata": {},
          "output_type": "execute_result"
        }
      ],
      "source": [
        "scaler = MinMaxScaler()\n",
        "CustomersDataset = pd.DataFrame(scaler.fit_transform(CustomersDataset), columns=CustomersDataset.columns)\n",
        "CustomersDataset.head()"
      ]
    },
    {
      "cell_type": "markdown",
      "metadata": {},
      "source": [
        "# Split The Data to Train & Test \n",
        "\n",
        "---"
      ]
    },
    {
      "cell_type": "code",
      "execution_count": 13,
      "metadata": {},
      "outputs": [],
      "source": [
        "x =CustomersDataset.drop([\"Churn\"],axis=1)#feature\n",
        "y =CustomersDataset[\"Churn\"]#target"
      ]
    },
    {
      "cell_type": "code",
      "execution_count": 14,
      "metadata": {},
      "outputs": [
        {
          "name": "stderr",
          "output_type": "stream",
          "text": [
            "c:\\Users\\DELL\\AppData\\Local\\Programs\\Python\\Python310\\lib\\site-packages\\seaborn\\_decorators.py:36: FutureWarning: Pass the following variable as a keyword arg: x. From version 0.12, the only valid positional argument will be `data`, and passing other arguments without an explicit keyword will result in an error or misinterpretation.\n",
            "  warnings.warn(\n"
          ]
        },
        {
          "data": {
            "text/plain": [
              "<AxesSubplot:xlabel='Churn', ylabel='count'>"
            ]
          },
          "execution_count": 14,
          "metadata": {},
          "output_type": "execute_result"
        },
        {
          "data": {
            "image/png": "[encoded data removed]",
            "text/plain": [
              "<Figure size 432x288 with 1 Axes>"
            ]
          },
          "metadata": {
            "needs_background": "light"
          },
          "output_type": "display_data"
        }
      ],
      "source": [
        "sns.countplot(CustomersDataset[\"Churn\"])"
      ]
    },
    {
      "cell_type": "markdown",
      "metadata": {},
      "source": [
        "We are going to use *SMOTE* tobalance class distribution by randomlyincreasing this minority class examples By Replicating them that's all so now let's use this smooth so for that we\n",
        "python\n",
        "```\n",
        "from imblearn.over_sampling import SMOTE\n",
        "x_res,y_res =SMOTE().fit_resample(x,y)\n",
        "y_res.value_counts()\n",
        "y_res.value_counts()\n",
        "sns.countplot(y_res)\n",
        "```"
      ]
    },
    {
      "cell_type": "code",
      "execution_count": 15,
      "metadata": {},
      "outputs": [],
      "source": [
        "x_train , x_test , y_train , y_test = train_test_split(x,y,test_size=0.33,random_state=44,shuffle=True)\n",
        "x_train = np.array(x_train)\n",
        "y_train = np.array(y_train)\n",
        "x_test = np.array(x_test)\n",
        "y_test = np.array(y_test)"
      ]
    },
    {
      "cell_type": "code",
      "execution_count": 16,
      "metadata": {
        "colab": {
          "base_uri": "https://localhost:8080/"
        },
        "id": "BMuG-fUp-IVK",
        "outputId": "30e551c6-c087-4f89-9a04-9294ddd44820"
      },
      "outputs": [
        {
          "name": "stdout",
          "output_type": "stream",
          "text": [
            "Train size 4718 rows\n",
            "Test size 2325 rows\n"
          ]
        }
      ],
      "source": [
        "print(f\"Train size {x_train.shape[0]} rows\\nTest size {x_test.shape[0]} rows\")"
      ]
    },
    {
      "cell_type": "code",
      "execution_count": 17,
      "metadata": {
        "colab": {
          "base_uri": "https://localhost:8080/"
        },
        "id": "qTc5TS6S-UAD",
        "outputId": "cd306a14-23fa-4056-ccba-93682a1af7ff"
      },
      "outputs": [
        {
          "name": "stdout",
          "output_type": "stream",
          "text": [
            "Shape of Y train: (4718,)\n",
            "Shape of Y test: (2325,)\n"
          ]
        }
      ],
      "source": [
        "#the shape of train and test y\n",
        "print(\"Shape of Y train: \" + str(y_train.shape))   \n",
        "print(\"Shape of Y test: \" + str(y_test.shape))"
      ]
    },
    {
      "cell_type": "markdown",
      "metadata": {},
      "source": [
        "# reshaping it to become a matrix"
      ]
    },
    {
      "cell_type": "code",
      "execution_count": 18,
      "metadata": {
        "colab": {
          "base_uri": "https://localhost:8080/"
        },
        "id": "PzBww1dG-YXw",
        "outputId": "ca3b4ced-dbb7-4c48-de73-f588a97b4126"
      },
      "outputs": [
        {
          "name": "stdout",
          "output_type": "stream",
          "text": [
            "Shape of Y train: (4718, 1)\n",
            "Shape of Y test: (2325, 1)\n"
          ]
        }
      ],
      "source": [
        "y_train = y_train.reshape(y_train.shape[0],1)\n",
        "y_test = y_test.reshape(y_test.shape[0],1)\n",
        "\n",
        "print(\"Shape of Y train: \" + str(y_train.shape))\n",
        "print(\"Shape of Y test: \" + str(y_test.shape))"
      ]
    },
    {
      "cell_type": "markdown",
      "metadata": {},
      "source": [
        "# Start Predict Using Logistic Regression\n",
        "---"
      ]
    },
    {
      "cell_type": "code",
      "execution_count": 19,
      "metadata": {
        "id": "iV9LsQGFlJZJ"
      },
      "outputs": [],
      "source": [
        "from sklearn.linear_model import LogisticRegression\n",
        "from sklearn.metrics import classification_report,confusion_matrix"
      ]
    },
    {
      "cell_type": "code",
      "execution_count": 20,
      "metadata": {
        "id": "Xfp6RDUAlnoQ"
      },
      "outputs": [],
      "source": [
        "LR_model =LogisticRegression(max_iter=1000,random_state=33,solver='saga',C=1.0)"
      ]
    },
    {
      "cell_type": "code",
      "execution_count": 21,
      "metadata": {
        "colab": {
          "base_uri": "https://localhost:8080/"
        },
        "id": "I4gBpXRHlqJI",
        "outputId": "1ac68d81-080a-4c9f-9ffc-7c0a1aa3d654"
      },
      "outputs": [
        {
          "name": "stderr",
          "output_type": "stream",
          "text": [
            "c:\\Users\\DELL\\AppData\\Local\\Programs\\Python\\Python310\\lib\\site-packages\\sklearn\\utils\\validation.py:1107: DataConversionWarning: A column-vector y was passed when a 1d array was expected. Please change the shape of y to (n_samples, ), for example using ravel().\n",
            "  y = column_or_1d(y, warn=True)\n"
          ]
        },
        {
          "data": {
            "text/html": [
              "<style>#sk-container-id-1 {color: black;background-color: white;}#sk-container-id-1 pre{padding: 0;}#sk-container-id-1 div.sk-toggleable {background-color: white;}#sk-container-id-1 label.sk-toggleable__label {cursor: pointer;display: block;width: 100%;margin-bottom: 0;padding: 0.3em;box-sizing: border-box;text-align: center;}#sk-container-id-1 label.sk-toggleable__label-arrow:before {content: \"▸\";float: left;margin-right: 0.25em;color: #696969;}#sk-container-id-1 label.sk-toggleable__label-arrow:hover:before {color: black;}#sk-container-id-1 div.sk-estimator:hover label.sk-toggleable__label-arrow:before {color: black;}#sk-container-id-1 div.sk-toggleable__content {max-height: 0;max-width: 0;overflow: hidden;text-align: left;background-color: #f0f8ff;}#sk-container-id-1 div.sk-toggleable__content pre {margin: 0.2em;color: black;border-radius: 0.25em;background-color: #f0f8ff;}#sk-container-id-1 input.sk-toggleable__control:checked~div.sk-toggleable__content {max-height: 200px;max-width: 100%;overflow: auto;}#sk-container-id-1 input.sk-toggleable__control:checked~label.sk-toggleable__label-arrow:before {content: \"▾\";}#sk-container-id-1 div.sk-estimator input.sk-toggleable__control:checked~label.sk-toggleable__label {background-color: #d4ebff;}#sk-container-id-1 div.sk-label input.sk-toggleable__control:checked~label.sk-toggleable__label {background-color: #d4ebff;}#sk-container-id-1 input.sk-hidden--visually {border: 0;clip: rect(1px 1px 1px 1px);clip: rect(1px, 1px, 1px, 1px);height: 1px;margin: -1px;overflow: hidden;padding: 0;position: absolute;width: 1px;}#sk-container-id-1 div.sk-estimator {font-family: monospace;background-color: #f0f8ff;border: 1px dotted black;border-radius: 0.25em;box-sizing: border-box;margin-bottom: 0.5em;}#sk-container-id-1 div.sk-estimator:hover {background-color: #d4ebff;}#sk-container-id-1 div.sk-parallel-item::after {content: \"\";width: 100%;border-bottom: 1px solid gray;flex-grow: 1;}#sk-container-id-1 div.sk-label:hover label.sk-toggleable__label {background-color: #d4ebff;}#sk-container-id-1 div.sk-serial::before {content: \"\";position: absolute;border-left: 1px solid gray;box-sizing: border-box;top: 0;bottom: 0;left: 50%;z-index: 0;}#sk-container-id-1 div.sk-serial {display: flex;flex-direction: column;align-items: center;background-color: white;padding-right: 0.2em;padding-left: 0.2em;position: relative;}#sk-container-id-1 div.sk-item {position: relative;z-index: 1;}#sk-container-id-1 div.sk-parallel {display: flex;align-items: stretch;justify-content: center;background-color: white;position: relative;}#sk-container-id-1 div.sk-item::before, #sk-container-id-1 div.sk-parallel-item::before {content: \"\";position: absolute;border-left: 1px solid gray;box-sizing: border-box;top: 0;bottom: 0;left: 50%;z-index: -1;}#sk-container-id-1 div.sk-parallel-item {display: flex;flex-direction: column;z-index: 1;position: relative;background-color: white;}#sk-container-id-1 div.sk-parallel-item:first-child::after {align-self: flex-end;width: 50%;}#sk-container-id-1 div.sk-parallel-item:last-child::after {align-self: flex-start;width: 50%;}#sk-container-id-1 div.sk-parallel-item:only-child::after {width: 0;}#sk-container-id-1 div.sk-dashed-wrapped {border: 1px dashed gray;margin: 0 0.4em 0.5em 0.4em;box-sizing: border-box;padding-bottom: 0.4em;background-color: white;}#sk-container-id-1 div.sk-label label {font-family: monospace;font-weight: bold;display: inline-block;line-height: 1.2em;}#sk-container-id-1 div.sk-label-container {text-align: center;}#sk-container-id-1 div.sk-container {/* jupyter's `normalize.less` sets `[hidden] { display: none; }` but bootstrap.min.css set `[hidden] { display: none !important; }` so we also need the `!important` here to be able to override the default hidden behavior on the sphinx rendered scikit-learn.org. See: https://github.com/scikit-learn/scikit-learn/issues/21755 */display: inline-block !important;position: relative;}#sk-container-id-1 div.sk-text-repr-fallback {display: none;}</style><div id=\"sk-container-id-1\" class=\"sk-top-container\"><div class=\"sk-text-repr-fallback\"><pre>LogisticRegression(max_iter=1000, random_state=33, solver=&#x27;saga&#x27;)</pre><b>In a Jupyter environment, please rerun this cell to show the HTML representation or trust the notebook. <br />On GitHub, the HTML representation is unable to render, please try loading this page with nbviewer.org.</b></div><div class=\"sk-container\" hidden><div class=\"sk-item\"><div class=\"sk-estimator sk-toggleable\"><input class=\"sk-toggleable__control sk-hidden--visually\" id=\"sk-estimator-id-1\" type=\"checkbox\" checked><label for=\"sk-estimator-id-1\" class=\"sk-toggleable__label sk-toggleable__label-arrow\">LogisticRegression</label><div class=\"sk-toggleable__content\"><pre>LogisticRegression(max_iter=1000, random_state=33, solver=&#x27;saga&#x27;)</pre></div></div></div></div></div>"
            ],
            "text/plain": [
              "LogisticRegression(max_iter=1000, random_state=33, solver='saga')"
            ]
          },
          "execution_count": 21,
          "metadata": {},
          "output_type": "execute_result"
        }
      ],
      "source": [
        "LR_model.fit(x_train,y_train)"
      ]
    },
    {
      "cell_type": "code",
      "execution_count": 22,
      "metadata": {
        "id": "MsAt6z41lqmd"
      },
      "outputs": [
        {
          "data": {
            "text/plain": [
              "array([0., 0., 0., ..., 1., 0., 0.])"
            ]
          },
          "execution_count": 22,
          "metadata": {},
          "output_type": "execute_result"
        }
      ],
      "source": [
        "y_pred=LR_model.predict(x_test)\n",
        "y_pred_prob = LR_model.predict_proba(x_test)\n",
        "y_pred"
      ]
    },
    {
      "cell_type": "markdown",
      "metadata": {},
      "source": [
        "# Calculateing Accuracy score , Precision score , Recall score and F1_Score\n",
        "#### Score for train and test Data , confusing matrix , model classes and number of iterators are used\n",
        "---"
      ]
    },
    {
      "cell_type": "code",
      "execution_count": 23,
      "metadata": {
        "id": "q3Kbhu09lqez"
      },
      "outputs": [
        {
          "name": "stdout",
          "output_type": "stream",
          "text": [
            "LogisticRegression_Model Train Score\\Accuracy = 0.8047901653242899\n",
            "LogisticRegression_Model Test Score = 0.8073118279569892\n",
            "The confusion matrix For \"Test\" LogisticRegression_Model\n",
            " [[1560  161]\n",
            " [ 287  317]]\n",
            "LogisticRegression_Model Classes ::  [0. 1.]\n",
            "LogisticRegression_Model Number of Iteratios [30]\n"
          ]
        }
      ],
      "source": [
        "print(\"LogisticRegression_Model Train Score\\Accuracy =\", LR_model.score(x_train,y_train))\n",
        "print(\"LogisticRegression_Model Test Score =\", LR_model.score(x_test,y_test))\n",
        "print(\"The confusion matrix For \\\"Test\\\" LogisticRegression_Model\\n\",confusion_matrix(y_test,y_pred))\n",
        "print(\"LogisticRegression_Model Classes :: \", LR_model.classes_ )\n",
        "print(\"LogisticRegression_Model Number of Iteratios\", LR_model.n_iter_)"
      ]
    },
    {
      "cell_type": "code",
      "execution_count": 24,
      "metadata": {},
      "outputs": [],
      "source": [
        "from sklearn.metrics import classification_report"
      ]
    },
    {
      "cell_type": "code",
      "execution_count": 25,
      "metadata": {},
      "outputs": [
        {
          "name": "stdout",
          "output_type": "stream",
          "text": [
            "              precision    recall  f1-score   support\n",
            "\n",
            "         0.0       0.84      0.91      0.87      1721\n",
            "         1.0       0.66      0.52      0.59       604\n",
            "\n",
            "    accuracy                           0.81      2325\n",
            "   macro avg       0.75      0.72      0.73      2325\n",
            "weighted avg       0.80      0.81      0.80      2325\n",
            "\n"
          ]
        }
      ],
      "source": [
        "print(classification_report(y_test,y_pred))"
      ]
    },
    {
      "cell_type": "code",
      "execution_count": 26,
      "metadata": {},
      "outputs": [],
      "source": [
        "from sklearn.metrics import accuracy_score,precision_score,recall_score,f1_score"
      ]
    },
    {
      "cell_type": "markdown",
      "metadata": {},
      "source": [
        "#### FOR Y_TEST"
      ]
    },
    {
      "cell_type": "code",
      "execution_count": 27,
      "metadata": {},
      "outputs": [
        {
          "name": "stdout",
          "output_type": "stream",
          "text": [
            "The Accuracy Score For \"Test\" LogisticRegression_Model 0.8073118279569892\n",
            "The Precision Score For \"Test\" LogisticRegression_Model 0.8073118279569892\n",
            "The Recall Score For \"Test\" LogisticRegression_Model 0.8073118279569892\n",
            "The F1_Score For \"Test\" LogisticRegression_Model 0.8073118279569892\n"
          ]
        }
      ],
      "source": [
        "print(\"The Accuracy Score For \\\"Test\\\" LogisticRegression_Model\",accuracy_score(y_test,y_pred))\n",
        "print(\"The Precision Score For \\\"Test\\\" LogisticRegression_Model\",precision_score(y_test,y_pred,average='micro'))\n",
        "print(\"The Recall Score For \\\"Test\\\" LogisticRegression_Model\",recall_score(y_test,y_pred,average='micro'))\n",
        "print(\"The F1_Score For \\\"Test\\\" LogisticRegression_Model\",f1_score(y_test,y_pred,average='micro'))"
      ]
    },
    {
      "cell_type": "markdown",
      "metadata": {},
      "source": [
        "#### FOR Y_TRAIN"
      ]
    },
    {
      "cell_type": "code",
      "execution_count": 28,
      "metadata": {},
      "outputs": [],
      "source": [
        "# print(\"The Accuracy Score For \\\"Test\\\" LogisticRegression_Model\",accuracy_score(y_train,y_pred))\n",
        "# print(\"The Precision Score For \\\"Test\\\" LogisticRegression_Model\",precision_score(y_train,y_pred,average='micro'))\n",
        "# print(\"The Recall Score For \\\"Test\\\" LogisticRegression_Model\",recall_score(y_train,y_pred,average='micro'))\n",
        "# print(\"The F1_Score For \\\"Test\\\" LogisticRegression_Model\",f1_score(y_train,y_pred,average='micro'))"
      ]
    },
    {
      "cell_type": "code",
      "execution_count": 29,
      "metadata": {},
      "outputs": [],
      "source": [
        "import seaborn as sns"
      ]
    },
    {
      "cell_type": "code",
      "execution_count": 30,
      "metadata": {},
      "outputs": [
        {
          "data": {
            "image/png": "[encoded data removed]",
            "text/plain": [
              "<Figure size 432x288 with 2 Axes>"
            ]
          },
          "metadata": {
            "needs_background": "light"
          },
          "output_type": "display_data"
        }
      ],
      "source": [
        "sns.heatmap(confusion_matrix(y_test,y_pred),center=True)\n",
        "plt.show()"
      ]
    },
    {
      "cell_type": "code",
      "execution_count": 31,
      "metadata": {},
      "outputs": [
        {
          "name": "stdout",
          "output_type": "stream",
          "text": [
            " the predict of  10 Rows from Our DataSets =  [0. 0. 0. 0. 0. 1. 0. 0. 0. 0.]\n",
            "the peobabilty of the preidect for 10 Rows From Our DataSets is : \n",
            " [[0.92051271 0.07948729]\n",
            " [0.87015076 0.12984924]\n",
            " [0.79317361 0.20682639]\n",
            " [0.99224192 0.00775808]\n",
            " [0.96730181 0.03269819]\n",
            " [0.44897609 0.55102391]\n",
            " [0.98275256 0.01724744]\n",
            " [0.58979019 0.41020981]\n",
            " [0.58472369 0.41527631]\n",
            " [0.64099653 0.35900347]]\n"
          ]
        }
      ],
      "source": [
        "print(\" the predict of  10 Rows from Our DataSets = \" , y_pred[:10])\n",
        "print(\"the peobabilty of the preidect for 10 Rows From Our DataSets is : \\n\",y_pred_prob[:10])"
      ]
    },
    {
      "cell_type": "markdown",
      "metadata": {},
      "source": [
        "# Start Predict Using SVM\n",
        "---"
      ]
    },
    {
      "cell_type": "code",
      "execution_count": 32,
      "metadata": {},
      "outputs": [],
      "source": [
        "from sklearn import svm"
      ]
    },
    {
      "cell_type": "code",
      "execution_count": 33,
      "metadata": {},
      "outputs": [],
      "source": [
        "svm = svm.SVC()"
      ]
    },
    {
      "cell_type": "code",
      "execution_count": 34,
      "metadata": {},
      "outputs": [
        {
          "name": "stderr",
          "output_type": "stream",
          "text": [
            "c:\\Users\\DELL\\AppData\\Local\\Programs\\Python\\Python310\\lib\\site-packages\\sklearn\\utils\\validation.py:1107: DataConversionWarning: A column-vector y was passed when a 1d array was expected. Please change the shape of y to (n_samples, ), for example using ravel().\n",
            "  y = column_or_1d(y, warn=True)\n"
          ]
        },
        {
          "data": {
            "text/html": [
              "<style>#sk-container-id-2 {color: black;background-color: white;}#sk-container-id-2 pre{padding: 0;}#sk-container-id-2 div.sk-toggleable {background-color: white;}#sk-container-id-2 label.sk-toggleable__label {cursor: pointer;display: block;width: 100%;margin-bottom: 0;padding: 0.3em;box-sizing: border-box;text-align: center;}#sk-container-id-2 label.sk-toggleable__label-arrow:before {content: \"▸\";float: left;margin-right: 0.25em;color: #696969;}#sk-container-id-2 label.sk-toggleable__label-arrow:hover:before {color: black;}#sk-container-id-2 div.sk-estimator:hover label.sk-toggleable__label-arrow:before {color: black;}#sk-container-id-2 div.sk-toggleable__content {max-height: 0;max-width: 0;overflow: hidden;text-align: left;background-color: #f0f8ff;}#sk-container-id-2 div.sk-toggleable__content pre {margin: 0.2em;color: black;border-radius: 0.25em;background-color: #f0f8ff;}#sk-container-id-2 input.sk-toggleable__control:checked~div.sk-toggleable__content {max-height: 200px;max-width: 100%;overflow: auto;}#sk-container-id-2 input.sk-toggleable__control:checked~label.sk-toggleable__label-arrow:before {content: \"▾\";}#sk-container-id-2 div.sk-estimator input.sk-toggleable__control:checked~label.sk-toggleable__label {background-color: #d4ebff;}#sk-container-id-2 div.sk-label input.sk-toggleable__control:checked~label.sk-toggleable__label {background-color: #d4ebff;}#sk-container-id-2 input.sk-hidden--visually {border: 0;clip: rect(1px 1px 1px 1px);clip: rect(1px, 1px, 1px, 1px);height: 1px;margin: -1px;overflow: hidden;padding: 0;position: absolute;width: 1px;}#sk-container-id-2 div.sk-estimator {font-family: monospace;background-color: #f0f8ff;border: 1px dotted black;border-radius: 0.25em;box-sizing: border-box;margin-bottom: 0.5em;}#sk-container-id-2 div.sk-estimator:hover {background-color: #d4ebff;}#sk-container-id-2 div.sk-parallel-item::after {content: \"\";width: 100%;border-bottom: 1px solid gray;flex-grow: 1;}#sk-container-id-2 div.sk-label:hover label.sk-toggleable__label {background-color: #d4ebff;}#sk-container-id-2 div.sk-serial::before {content: \"\";position: absolute;border-left: 1px solid gray;box-sizing: border-box;top: 0;bottom: 0;left: 50%;z-index: 0;}#sk-container-id-2 div.sk-serial {display: flex;flex-direction: column;align-items: center;background-color: white;padding-right: 0.2em;padding-left: 0.2em;position: relative;}#sk-container-id-2 div.sk-item {position: relative;z-index: 1;}#sk-container-id-2 div.sk-parallel {display: flex;align-items: stretch;justify-content: center;background-color: white;position: relative;}#sk-container-id-2 div.sk-item::before, #sk-container-id-2 div.sk-parallel-item::before {content: \"\";position: absolute;border-left: 1px solid gray;box-sizing: border-box;top: 0;bottom: 0;left: 50%;z-index: -1;}#sk-container-id-2 div.sk-parallel-item {display: flex;flex-direction: column;z-index: 1;position: relative;background-color: white;}#sk-container-id-2 div.sk-parallel-item:first-child::after {align-self: flex-end;width: 50%;}#sk-container-id-2 div.sk-parallel-item:last-child::after {align-self: flex-start;width: 50%;}#sk-container-id-2 div.sk-parallel-item:only-child::after {width: 0;}#sk-container-id-2 div.sk-dashed-wrapped {border: 1px dashed gray;margin: 0 0.4em 0.5em 0.4em;box-sizing: border-box;padding-bottom: 0.4em;background-color: white;}#sk-container-id-2 div.sk-label label {font-family: monospace;font-weight: bold;display: inline-block;line-height: 1.2em;}#sk-container-id-2 div.sk-label-container {text-align: center;}#sk-container-id-2 div.sk-container {/* jupyter's `normalize.less` sets `[hidden] { display: none; }` but bootstrap.min.css set `[hidden] { display: none !important; }` so we also need the `!important` here to be able to override the default hidden behavior on the sphinx rendered scikit-learn.org. See: https://github.com/scikit-learn/scikit-learn/issues/21755 */display: inline-block !important;position: relative;}#sk-container-id-2 div.sk-text-repr-fallback {display: none;}</style><div id=\"sk-container-id-2\" class=\"sk-top-container\"><div class=\"sk-text-repr-fallback\"><pre>SVC()</pre><b>In a Jupyter environment, please rerun this cell to show the HTML representation or trust the notebook. <br />On GitHub, the HTML representation is unable to render, please try loading this page with nbviewer.org.</b></div><div class=\"sk-container\" hidden><div class=\"sk-item\"><div class=\"sk-estimator sk-toggleable\"><input class=\"sk-toggleable__control sk-hidden--visually\" id=\"sk-estimator-id-2\" type=\"checkbox\" checked><label for=\"sk-estimator-id-2\" class=\"sk-toggleable__label sk-toggleable__label-arrow\">SVC</label><div class=\"sk-toggleable__content\"><pre>SVC()</pre></div></div></div></div></div>"
            ],
            "text/plain": [
              "SVC()"
            ]
          },
          "execution_count": 34,
          "metadata": {},
          "output_type": "execute_result"
        }
      ],
      "source": [
        "svm.fit(x_train,y_train )"
      ]
    },
    {
      "cell_type": "code",
      "execution_count": 35,
      "metadata": {},
      "outputs": [],
      "source": [
        "y_pred_2 = svm.predict(x_test)"
      ]
    },
    {
      "cell_type": "markdown",
      "metadata": {},
      "source": [
        "# Calculateing Accuracy score , Precision score , Recall score and F1_Score\n",
        "#### Score for train and test Data , confusing matrix , model classes and number of iterators are used\n",
        "---"
      ]
    },
    {
      "cell_type": "code",
      "execution_count": 36,
      "metadata": {
        "id": "q3Kbhu09lqez"
      },
      "outputs": [
        {
          "name": "stdout",
          "output_type": "stream",
          "text": [
            "SVM_Model Train Score\\Accuracy = 0.8100890207715133\n",
            "SVM_Model Test Score = 0.8038709677419354\n",
            "The confusion matrix For \"Test\" LogisticRegression_Model\n",
            " [[1560  161]\n",
            " [ 287  317]]\n",
            "SVM_Model Classes ::  [0. 1.]\n",
            "SVM_Model Number of Iteratios [3546]\n"
          ]
        }
      ],
      "source": [
        "print(\"SVM_Model Train Score\\Accuracy =\", svm.score(x_train,y_train))\n",
        "print(\"SVM_Model Test Score =\", svm.score(x_test,y_test))\n",
        "print(\"The confusion matrix For \\\"Test\\\" LogisticRegression_Model\\n\",confusion_matrix(y_test,y_pred))\n",
        "print(\"SVM_Model Classes :: \", svm.classes_ )\n",
        "print(\"SVM_Model Number of Iteratios\", svm.n_iter_)"
      ]
    },
    {
      "cell_type": "code",
      "execution_count": 37,
      "metadata": {},
      "outputs": [
        {
          "name": "stdout",
          "output_type": "stream",
          "text": [
            "              precision    recall  f1-score   support\n",
            "\n",
            "         0.0       0.83      0.92      0.87      1721\n",
            "         1.0       0.67      0.47      0.56       604\n",
            "\n",
            "    accuracy                           0.80      2325\n",
            "   macro avg       0.75      0.70      0.72      2325\n",
            "weighted avg       0.79      0.80      0.79      2325\n",
            "\n"
          ]
        }
      ],
      "source": [
        "print(classification_report(y_test,y_pred_2))"
      ]
    },
    {
      "cell_type": "markdown",
      "metadata": {},
      "source": [
        "#### FOR Y_TEST"
      ]
    },
    {
      "cell_type": "code",
      "execution_count": 38,
      "metadata": {},
      "outputs": [
        {
          "name": "stdout",
          "output_type": "stream",
          "text": [
            "The Accuracy Score For \"Test\" SVM_Model 0.8038709677419354\n",
            "The Precision Score For \"Test\" SVM_Model 0.8038709677419354\n",
            "The Recall Score For \"Test\" SVM_Model 0.8038709677419354\n",
            "The F1_Score For \"Test\" SVM_Model 0.8038709677419353\n"
          ]
        }
      ],
      "source": [
        "print(\"The Accuracy Score For \\\"Test\\\" SVM_Model\",accuracy_score(y_test,y_pred_2))\n",
        "print(\"The Precision Score For \\\"Test\\\" SVM_Model\",precision_score(y_test,y_pred_2,average='micro'))\n",
        "print(\"The Recall Score For \\\"Test\\\" SVM_Model\",recall_score(y_test,y_pred_2,average='micro'))\n",
        "print(\"The F1_Score For \\\"Test\\\" SVM_Model\",f1_score(y_test,y_pred_2,average='micro'))\n"
      ]
    },
    {
      "cell_type": "markdown",
      "metadata": {},
      "source": [
        "#### FOR Y_Train"
      ]
    },
    {
      "cell_type": "code",
      "execution_count": 39,
      "metadata": {},
      "outputs": [],
      "source": [
        "# print(\"The Accuracy Score For \\\"Test\\\" LogisticRegression_Model\",accuracy_score(y_train,y_pred_2))\n",
        "# print(\"The Precision Score For \\\"Test\\\" LogisticRegression_Model\",precision_score(y_train,y_pred_2,average='micro'))\n",
        "# print(\"The Recall Score For \\\"Test\\\" LogisticRegression_Model\",recall_score(y_train,y_pred_2,average='micro'))\n",
        "# print(\"The F1_Score For \\\"Test\\\" LogisticRegression_Model\",f1_score(y_train,y_pred_2,average='micro'))\n"
      ]
    },
    {
      "cell_type": "code",
      "execution_count": 40,
      "metadata": {},
      "outputs": [
        {
          "data": {
            "image/png": "[encoded data removed]",
            "text/plain": [
              "<Figure size 432x288 with 2 Axes>"
            ]
          },
          "metadata": {
            "needs_background": "light"
          },
          "output_type": "display_data"
        }
      ],
      "source": [
        "sns.heatmap(confusion_matrix(y_test,y_pred_2),center=True)\n",
        "plt.show()"
      ]
    },
    {
      "cell_type": "code",
      "execution_count": 41,
      "metadata": {},
      "outputs": [
        {
          "name": "stdout",
          "output_type": "stream",
          "text": [
            " the predict of  10 Rows from Our DataSets =  [0. 0. 0. 0. 0. 1. 0. 0. 0. 0.]\n",
            "the peobabilty of the preidect for 10 Rows From Our DataSets is :\n",
            " [[0.92051271 0.07948729]\n",
            " [0.87015076 0.12984924]\n",
            " [0.79317361 0.20682639]\n",
            " [0.99224192 0.00775808]\n",
            " [0.96730181 0.03269819]\n",
            " [0.44897609 0.55102391]\n",
            " [0.98275256 0.01724744]\n",
            " [0.58979019 0.41020981]\n",
            " [0.58472369 0.41527631]\n",
            " [0.64099653 0.35900347]]\n"
          ]
        }
      ],
      "source": [
        "print(\" the predict of  10 Rows from Our DataSets = \" , y_pred[:10])\n",
        "print(\"the peobabilty of the preidect for 10 Rows From Our DataSets is :\\n\",y_pred_prob[:10])"
      ]
    },
    {
      "cell_type": "markdown",
      "metadata": {},
      "source": [
        "# Start Predict Using Decision Tree Classifier\n",
        "---"
      ]
    },
    {
      "cell_type": "code",
      "execution_count": 42,
      "metadata": {},
      "outputs": [],
      "source": [
        "from sklearn.tree import DecisionTreeClassifier"
      ]
    },
    {
      "cell_type": "code",
      "execution_count": 43,
      "metadata": {},
      "outputs": [],
      "source": [
        "dt=DecisionTreeClassifier()"
      ]
    },
    {
      "cell_type": "code",
      "execution_count": 44,
      "metadata": {},
      "outputs": [
        {
          "data": {
            "text/html": [
              "<style>#sk-container-id-3 {color: black;background-color: white;}#sk-container-id-3 pre{padding: 0;}#sk-container-id-3 div.sk-toggleable {background-color: white;}#sk-container-id-3 label.sk-toggleable__label {cursor: pointer;display: block;width: 100%;margin-bottom: 0;padding: 0.3em;box-sizing: border-box;text-align: center;}#sk-container-id-3 label.sk-toggleable__label-arrow:before {content: \"▸\";float: left;margin-right: 0.25em;color: #696969;}#sk-container-id-3 label.sk-toggleable__label-arrow:hover:before {color: black;}#sk-container-id-3 div.sk-estimator:hover label.sk-toggleable__label-arrow:before {color: black;}#sk-container-id-3 div.sk-toggleable__content {max-height: 0;max-width: 0;overflow: hidden;text-align: left;background-color: #f0f8ff;}#sk-container-id-3 div.sk-toggleable__content pre {margin: 0.2em;color: black;border-radius: 0.25em;background-color: #f0f8ff;}#sk-container-id-3 input.sk-toggleable__control:checked~div.sk-toggleable__content {max-height: 200px;max-width: 100%;overflow: auto;}#sk-container-id-3 input.sk-toggleable__control:checked~label.sk-toggleable__label-arrow:before {content: \"▾\";}#sk-container-id-3 div.sk-estimator input.sk-toggleable__control:checked~label.sk-toggleable__label {background-color: #d4ebff;}#sk-container-id-3 div.sk-label input.sk-toggleable__control:checked~label.sk-toggleable__label {background-color: #d4ebff;}#sk-container-id-3 input.sk-hidden--visually {border: 0;clip: rect(1px 1px 1px 1px);clip: rect(1px, 1px, 1px, 1px);height: 1px;margin: -1px;overflow: hidden;padding: 0;position: absolute;width: 1px;}#sk-container-id-3 div.sk-estimator {font-family: monospace;background-color: #f0f8ff;border: 1px dotted black;border-radius: 0.25em;box-sizing: border-box;margin-bottom: 0.5em;}#sk-container-id-3 div.sk-estimator:hover {background-color: #d4ebff;}#sk-container-id-3 div.sk-parallel-item::after {content: \"\";width: 100%;border-bottom: 1px solid gray;flex-grow: 1;}#sk-container-id-3 div.sk-label:hover label.sk-toggleable__label {background-color: #d4ebff;}#sk-container-id-3 div.sk-serial::before {content: \"\";position: absolute;border-left: 1px solid gray;box-sizing: border-box;top: 0;bottom: 0;left: 50%;z-index: 0;}#sk-container-id-3 div.sk-serial {display: flex;flex-direction: column;align-items: center;background-color: white;padding-right: 0.2em;padding-left: 0.2em;position: relative;}#sk-container-id-3 div.sk-item {position: relative;z-index: 1;}#sk-container-id-3 div.sk-parallel {display: flex;align-items: stretch;justify-content: center;background-color: white;position: relative;}#sk-container-id-3 div.sk-item::before, #sk-container-id-3 div.sk-parallel-item::before {content: \"\";position: absolute;border-left: 1px solid gray;box-sizing: border-box;top: 0;bottom: 0;left: 50%;z-index: -1;}#sk-container-id-3 div.sk-parallel-item {display: flex;flex-direction: column;z-index: 1;position: relative;background-color: white;}#sk-container-id-3 div.sk-parallel-item:first-child::after {align-self: flex-end;width: 50%;}#sk-container-id-3 div.sk-parallel-item:last-child::after {align-self: flex-start;width: 50%;}#sk-container-id-3 div.sk-parallel-item:only-child::after {width: 0;}#sk-container-id-3 div.sk-dashed-wrapped {border: 1px dashed gray;margin: 0 0.4em 0.5em 0.4em;box-sizing: border-box;padding-bottom: 0.4em;background-color: white;}#sk-container-id-3 div.sk-label label {font-family: monospace;font-weight: bold;display: inline-block;line-height: 1.2em;}#sk-container-id-3 div.sk-label-container {text-align: center;}#sk-container-id-3 div.sk-container {/* jupyter's `normalize.less` sets `[hidden] { display: none; }` but bootstrap.min.css set `[hidden] { display: none !important; }` so we also need the `!important` here to be able to override the default hidden behavior on the sphinx rendered scikit-learn.org. See: https://github.com/scikit-learn/scikit-learn/issues/21755 */display: inline-block !important;position: relative;}#sk-container-id-3 div.sk-text-repr-fallback {display: none;}</style><div id=\"sk-container-id-3\" class=\"sk-top-container\"><div class=\"sk-text-repr-fallback\"><pre>DecisionTreeClassifier()</pre><b>In a Jupyter environment, please rerun this cell to show the HTML representation or trust the notebook. <br />On GitHub, the HTML representation is unable to render, please try loading this page with nbviewer.org.</b></div><div class=\"sk-container\" hidden><div class=\"sk-item\"><div class=\"sk-estimator sk-toggleable\"><input class=\"sk-toggleable__control sk-hidden--visually\" id=\"sk-estimator-id-3\" type=\"checkbox\" checked><label for=\"sk-estimator-id-3\" class=\"sk-toggleable__label sk-toggleable__label-arrow\">DecisionTreeClassifier</label><div class=\"sk-toggleable__content\"><pre>DecisionTreeClassifier()</pre></div></div></div></div></div>"
            ],
            "text/plain": [
              "DecisionTreeClassifier()"
            ]
          },
          "execution_count": 44,
          "metadata": {},
          "output_type": "execute_result"
        }
      ],
      "source": [
        "dt.fit(x_train,y_train)"
      ]
    },
    {
      "cell_type": "code",
      "execution_count": 45,
      "metadata": {},
      "outputs": [],
      "source": [
        "y_pred_3 =dt.predict(x_test)"
      ]
    },
    {
      "cell_type": "code",
      "execution_count": 46,
      "metadata": {},
      "outputs": [
        {
          "data": {
            "text/plain": [
              "0.7208602150537634"
            ]
          },
          "execution_count": 46,
          "metadata": {},
          "output_type": "execute_result"
        }
      ],
      "source": [
        "accuracy_score(y_test,y_pred_3)"
      ]
    },
    {
      "cell_type": "markdown",
      "metadata": {},
      "source": [
        "# Calculateing Accuracy score , Precision score , Recall score and F1_Score\n",
        "#### Score for train and test Data , confusing matrix , model classes and number of iterators are used\n",
        "---"
      ]
    },
    {
      "cell_type": "code",
      "execution_count": 47,
      "metadata": {},
      "outputs": [
        {
          "name": "stdout",
          "output_type": "stream",
          "text": [
            "              precision    recall  f1-score   support\n",
            "\n",
            "         0.0       0.81      0.81      0.81      1721\n",
            "         1.0       0.46      0.47      0.47       604\n",
            "\n",
            "    accuracy                           0.72      2325\n",
            "   macro avg       0.64      0.64      0.64      2325\n",
            "weighted avg       0.72      0.72      0.72      2325\n",
            "\n"
          ]
        }
      ],
      "source": [
        "print(classification_report(y_test,y_pred_3))"
      ]
    },
    {
      "cell_type": "code",
      "execution_count": 48,
      "metadata": {
        "id": "q3Kbhu09lqez"
      },
      "outputs": [
        {
          "name": "stdout",
          "output_type": "stream",
          "text": [
            "DecisionTreeClassifier_Model Train Score\\Accuracy = 0.9972445951674438\n",
            "DecisionTreeClassifier_Model Test Score = 0.7208602150537634\n",
            "The confusion matrix For \"Test\" LogisticRegression_Model\n",
            " [[1560  161]\n",
            " [ 287  317]]\n",
            "DecisionTreeClassifier_Model Classes ::  [0. 1.]\n"
          ]
        }
      ],
      "source": [
        "print(\"DecisionTreeClassifier_Model Train Score\\Accuracy =\", dt.score(x_train,y_train))\n",
        "print(\"DecisionTreeClassifier_Model Test Score =\", dt.score(x_test,y_test))\n",
        "print(\"The confusion matrix For \\\"Test\\\" LogisticRegression_Model\\n\",confusion_matrix(y_test,y_pred_3))\n",
        "print(\"DecisionTreeClassifier_Model Classes :: \", dt.classes_ )"
      ]
    },
    {
      "cell_type": "markdown",
      "metadata": {},
      "source": [
        "#### FOR Y_TEST"
      ]
    },
    {
      "cell_type": "code",
      "execution_count": 49,
      "metadata": {},
      "outputs": [
        {
          "name": "stdout",
          "output_type": "stream",
          "text": [
            "The Accuracy Score For \"Test\"DecisionTreeClassifier_Model 0.7208602150537634\n",
            "The Precision Score For \"Test\" DecisionTreeClassifier_Model 0.7208602150537634\n",
            "The Recall Score For \"Test\"DecisionTreeClassifier_Model 0.7208602150537634\n",
            "The F1_Score For \"Test\" DecisionTreeClassifier_Model 0.7208602150537633\n"
          ]
        }
      ],
      "source": [
        "print(\"The Accuracy Score For \\\"Test\\\"DecisionTreeClassifier_Model\",accuracy_score(y_test,y_pred_3))\n",
        "print(\"The Precision Score For \\\"Test\\\" DecisionTreeClassifier_Model\",precision_score(y_test,y_pred_3,average='micro'))\n",
        "print(\"The Recall Score For \\\"Test\\\"DecisionTreeClassifier_Model\",recall_score(y_test,y_pred_3,average='micro'))\n",
        "print(\"The F1_Score For \\\"Test\\\" DecisionTreeClassifier_Model\",f1_score(y_test,y_pred_3,average='micro'))"
      ]
    },
    {
      "cell_type": "markdown",
      "metadata": {},
      "source": [
        "#### FOR Y_TRAIN"
      ]
    },
    {
      "cell_type": "code",
      "execution_count": 50,
      "metadata": {},
      "outputs": [],
      "source": [
        "# print(\"The Accuracy Score For \\\"Test\\\" LogisticRegression_Model\",accuracy_score(y_train,y_pred_3))\n",
        "# print(\"The Precision Score For \\\"Test\\\" LogisticRegression_Model\",precision_score(y_train,y_pred_3,average='micro'))\n",
        "# print(\"The Recall Score For \\\"Test\\\" LogisticRegression_Model\",recall_score(y_train,y_pred_3,average='micro'))\n",
        "# print(\"The F1_Score For \\\"Test\\\" LogisticRegression_Model\",f1_score(y_train,y_pred_3,average='micro'))"
      ]
    },
    {
      "cell_type": "code",
      "execution_count": 51,
      "metadata": {},
      "outputs": [
        {
          "data": {
            "image/png": "[encoded data removed]",
            "text/plain": [
              "<Figure size 432x288 with 2 Axes>"
            ]
          },
          "metadata": {
            "needs_background": "light"
          },
          "output_type": "display_data"
        }
      ],
      "source": [
        "sns.heatmap(confusion_matrix(y_test,y_pred_3),center=True)\n",
        "plt.show()"
      ]
    },
    {
      "cell_type": "markdown",
      "metadata": {},
      "source": [
        "# Finally Collecting the Data in DataFrame\n",
        "---"
      ]
    },
    {
      "cell_type": "code",
      "execution_count": 52,
      "metadata": {},
      "outputs": [],
      "source": [
        "import seaborn as sns"
      ]
    },
    {
      "cell_type": "code",
      "execution_count": 53,
      "metadata": {},
      "outputs": [
        {
          "data": {
            "text/html": [
              "<div>\n",
              "<style scoped>\n",
              "    .dataframe tbody tr th:only-of-type {\n",
              "        vertical-align: middle;\n",
              "    }\n",
              "\n",
              "    .dataframe tbody tr th {\n",
              "        vertical-align: top;\n",
              "    }\n",
              "\n",
              "    .dataframe thead th {\n",
              "        text-align: right;\n",
              "    }\n",
              "</style>\n",
              "<table border=\"1\" class=\"dataframe\">\n",
              "  <thead>\n",
              "    <tr style=\"text-align: right;\">\n",
              "      <th></th>\n",
              "      <th>Models</th>\n",
              "      <th>Accuracy</th>\n",
              "    </tr>\n",
              "  </thead>\n",
              "  <tbody>\n",
              "    <tr>\n",
              "      <th>0</th>\n",
              "      <td>LR</td>\n",
              "      <td>0.807312</td>\n",
              "    </tr>\n",
              "    <tr>\n",
              "      <th>1</th>\n",
              "      <td>SVM</td>\n",
              "      <td>0.803871</td>\n",
              "    </tr>\n",
              "    <tr>\n",
              "      <th>2</th>\n",
              "      <td>DT</td>\n",
              "      <td>0.720860</td>\n",
              "    </tr>\n",
              "  </tbody>\n",
              "</table>\n",
              "</div>"
            ],
            "text/plain": [
              "  Models  Accuracy\n",
              "0     LR  0.807312\n",
              "1    SVM  0.803871\n",
              "2     DT  0.720860"
            ]
          },
          "execution_count": 53,
          "metadata": {},
          "output_type": "execute_result"
        }
      ],
      "source": [
        "final_data_Accuracy=pd.DataFrame({'Models':['LR','SVM','DT'],\n",
        "                            'Accuracy':[accuracy_score(y_test,y_pred),accuracy_score(y_test,y_pred_2),accuracy_score(y_test,y_pred_3)]})\n",
        "final_data_Accuracy"
      ]
    },
    {
      "cell_type": "code",
      "execution_count": 54,
      "metadata": {},
      "outputs": [
        {
          "name": "stderr",
          "output_type": "stream",
          "text": [
            "c:\\Users\\DELL\\AppData\\Local\\Programs\\Python\\Python310\\lib\\site-packages\\seaborn\\_decorators.py:36: FutureWarning: Pass the following variables as keyword args: x, y. From version 0.12, the only valid positional argument will be `data`, and passing other arguments without an explicit keyword will result in an error or misinterpretation.\n",
            "  warnings.warn(\n"
          ]
        },
        {
          "data": {
            "image/png": "[encoded data removed]",
            "text/plain": [
              "<Figure size 432x288 with 1 Axes>"
            ]
          },
          "metadata": {
            "needs_background": "light"
          },
          "output_type": "display_data"
        }
      ],
      "source": [
        "sns.barplot(final_data_Accuracy['Models'],final_data_Accuracy['Accuracy'])\n",
        "plt.show()"
      ]
    },
    {
      "cell_type": "code",
      "execution_count": 55,
      "metadata": {},
      "outputs": [
        {
          "data": {
            "text/html": [
              "<div>\n",
              "<style scoped>\n",
              "    .dataframe tbody tr th:only-of-type {\n",
              "        vertical-align: middle;\n",
              "    }\n",
              "\n",
              "    .dataframe tbody tr th {\n",
              "        vertical-align: top;\n",
              "    }\n",
              "\n",
              "    .dataframe thead th {\n",
              "        text-align: right;\n",
              "    }\n",
              "</style>\n",
              "<table border=\"1\" class=\"dataframe\">\n",
              "  <thead>\n",
              "    <tr style=\"text-align: right;\">\n",
              "      <th></th>\n",
              "      <th>Models</th>\n",
              "      <th>PRECISION</th>\n",
              "    </tr>\n",
              "  </thead>\n",
              "  <tbody>\n",
              "    <tr>\n",
              "      <th>0</th>\n",
              "      <td>LR</td>\n",
              "      <td>0.663180</td>\n",
              "    </tr>\n",
              "    <tr>\n",
              "      <th>1</th>\n",
              "      <td>SVM</td>\n",
              "      <td>0.674528</td>\n",
              "    </tr>\n",
              "    <tr>\n",
              "      <th>2</th>\n",
              "      <td>ID3</td>\n",
              "      <td>0.463533</td>\n",
              "    </tr>\n",
              "  </tbody>\n",
              "</table>\n",
              "</div>"
            ],
            "text/plain": [
              "  Models  PRECISION\n",
              "0     LR   0.663180\n",
              "1    SVM   0.674528\n",
              "2    ID3   0.463533"
            ]
          },
          "execution_count": 55,
          "metadata": {},
          "output_type": "execute_result"
        }
      ],
      "source": [
        "final_data_Precision=pd.DataFrame({'Models':['LR','SVM','ID3'],\n",
        "                            'PRECISION':[precision_score(y_test,y_pred),precision_score(y_test,y_pred_2),precision_score(y_test,y_pred_3)]})\n",
        "final_data_Precision"
      ]
    },
    {
      "cell_type": "code",
      "execution_count": 56,
      "metadata": {},
      "outputs": [
        {
          "name": "stderr",
          "output_type": "stream",
          "text": [
            "c:\\Users\\DELL\\AppData\\Local\\Programs\\Python\\Python310\\lib\\site-packages\\seaborn\\_decorators.py:36: FutureWarning: Pass the following variables as keyword args: x, y. From version 0.12, the only valid positional argument will be `data`, and passing other arguments without an explicit keyword will result in an error or misinterpretation.\n",
            "  warnings.warn(\n"
          ]
        },
        {
          "data": {
            "image/png": "[encoded data removed]",
            "text/plain": [
              "<Figure size 432x288 with 1 Axes>"
            ]
          },
          "metadata": {
            "needs_background": "light"
          },
          "output_type": "display_data"
        }
      ],
      "source": [
        "sns.barplot(final_data_Precision['Models'],final_data_Precision['PRECISION'])\n",
        "plt.show()"
      ]
    },
    {
      "cell_type": "code",
      "execution_count": 57,
      "metadata": {},
      "outputs": [
        {
          "data": {
            "text/html": [
              "<div>\n",
              "<style scoped>\n",
              "    .dataframe tbody tr th:only-of-type {\n",
              "        vertical-align: middle;\n",
              "    }\n",
              "\n",
              "    .dataframe tbody tr th {\n",
              "        vertical-align: top;\n",
              "    }\n",
              "\n",
              "    .dataframe thead th {\n",
              "        text-align: right;\n",
              "    }\n",
              "</style>\n",
              "<table border=\"1\" class=\"dataframe\">\n",
              "  <thead>\n",
              "    <tr style=\"text-align: right;\">\n",
              "      <th></th>\n",
              "      <th>Models</th>\n",
              "      <th>Recall</th>\n",
              "    </tr>\n",
              "  </thead>\n",
              "  <tbody>\n",
              "    <tr>\n",
              "      <th>0</th>\n",
              "      <td>LR</td>\n",
              "      <td>0.524834</td>\n",
              "    </tr>\n",
              "    <tr>\n",
              "      <th>1</th>\n",
              "      <td>SVM</td>\n",
              "      <td>0.473510</td>\n",
              "    </tr>\n",
              "    <tr>\n",
              "      <th>2</th>\n",
              "      <td>ID3</td>\n",
              "      <td>0.473510</td>\n",
              "    </tr>\n",
              "  </tbody>\n",
              "</table>\n",
              "</div>"
            ],
            "text/plain": [
              "  Models    Recall\n",
              "0     LR  0.524834\n",
              "1    SVM  0.473510\n",
              "2    ID3  0.473510"
            ]
          },
          "execution_count": 57,
          "metadata": {},
          "output_type": "execute_result"
        }
      ],
      "source": [
        "final_data_Recall=pd.DataFrame({'Models':['LR','SVM','ID3'],\n",
        "                            'Recall':[recall_score(y_test,y_pred),recall_score(y_test,y_pred_2),recall_score(y_test,y_pred_3)]})\n",
        "final_data_Recall"
      ]
    },
    {
      "cell_type": "code",
      "execution_count": 58,
      "metadata": {},
      "outputs": [
        {
          "name": "stderr",
          "output_type": "stream",
          "text": [
            "c:\\Users\\DELL\\AppData\\Local\\Programs\\Python\\Python310\\lib\\site-packages\\seaborn\\_decorators.py:36: FutureWarning: Pass the following variables as keyword args: x, y. From version 0.12, the only valid positional argument will be `data`, and passing other arguments without an explicit keyword will result in an error or misinterpretation.\n",
            "  warnings.warn(\n"
          ]
        },
        {
          "data": {
            "image/png": "[encoded data removed]",
            "text/plain": [
              "<Figure size 432x288 with 1 Axes>"
            ]
          },
          "metadata": {
            "needs_background": "light"
          },
          "output_type": "display_data"
        }
      ],
      "source": [
        "sns.barplot(final_data_Recall['Models'],final_data_Recall['Recall'])\n",
        "plt.show()"
      ]
    },
    {
      "cell_type": "code",
      "execution_count": 59,
      "metadata": {},
      "outputs": [
        {
          "data": {
            "text/html": [
              "<div>\n",
              "<style scoped>\n",
              "    .dataframe tbody tr th:only-of-type {\n",
              "        vertical-align: middle;\n",
              "    }\n",
              "\n",
              "    .dataframe tbody tr th {\n",
              "        vertical-align: top;\n",
              "    }\n",
              "\n",
              "    .dataframe thead th {\n",
              "        text-align: right;\n",
              "    }\n",
              "</style>\n",
              "<table border=\"1\" class=\"dataframe\">\n",
              "  <thead>\n",
              "    <tr style=\"text-align: right;\">\n",
              "      <th></th>\n",
              "      <th>Models</th>\n",
              "      <th>F1_Score</th>\n",
              "    </tr>\n",
              "  </thead>\n",
              "  <tbody>\n",
              "    <tr>\n",
              "      <th>0</th>\n",
              "      <td>LR</td>\n",
              "      <td>0.585952</td>\n",
              "    </tr>\n",
              "    <tr>\n",
              "      <th>1</th>\n",
              "      <td>SVM</td>\n",
              "      <td>0.556420</td>\n",
              "    </tr>\n",
              "    <tr>\n",
              "      <th>2</th>\n",
              "      <td>ID3</td>\n",
              "      <td>0.468468</td>\n",
              "    </tr>\n",
              "  </tbody>\n",
              "</table>\n",
              "</div>"
            ],
            "text/plain": [
              "  Models  F1_Score\n",
              "0     LR  0.585952\n",
              "1    SVM  0.556420\n",
              "2    ID3  0.468468"
            ]
          },
          "execution_count": 59,
          "metadata": {},
          "output_type": "execute_result"
        }
      ],
      "source": [
        "final_data_F1_Score=pd.DataFrame({'Models':['LR','SVM','ID3'],\n",
        "                            'F1_Score':[f1_score(y_test,y_pred),f1_score(y_test,y_pred_2),f1_score(y_test,y_pred_3)]})\n",
        "final_data_F1_Score"
      ]
    },
    {
      "cell_type": "code",
      "execution_count": 60,
      "metadata": {},
      "outputs": [
        {
          "name": "stderr",
          "output_type": "stream",
          "text": [
            "c:\\Users\\DELL\\AppData\\Local\\Programs\\Python\\Python310\\lib\\site-packages\\seaborn\\_decorators.py:36: FutureWarning: Pass the following variables as keyword args: x, y. From version 0.12, the only valid positional argument will be `data`, and passing other arguments without an explicit keyword will result in an error or misinterpretation.\n",
            "  warnings.warn(\n"
          ]
        },
        {
          "data": {
            "image/png": "[encoded data removed]",
            "text/plain": [
              "<Figure size 432x288 with 1 Axes>"
            ]
          },
          "metadata": {
            "needs_background": "light"
          },
          "output_type": "display_data"
        }
      ],
      "source": [
        "sns.barplot(final_data_F1_Score['Models'],final_data_F1_Score['F1_Score'])\n",
        "plt.show()"
      ]
    },
    {
      "cell_type": "markdown",
      "metadata": {},
      "source": [
        "# Save Our Model\n",
        "--- "
      ]
    },
    {
      "cell_type": "code",
      "execution_count": 61,
      "metadata": {},
      "outputs": [],
      "source": [
        "import joblib"
      ]
    },
    {
      "cell_type": "code",
      "execution_count": 62,
      "metadata": {},
      "outputs": [],
      "source": [
        "lr_model =joblib.dump(LR_model,'Churn Predict Model')\n",
        "svm_model =joblib.dump(svm,'Churn Predict Model')\n",
        "dt_model =joblib.dump(dt,'Churn Predict Model')"
      ]
    },
    {
      "cell_type": "code",
      "execution_count": 63,
      "metadata": {},
      "outputs": [],
      "source": [
        "lr_model=joblib.load('Churn Predict Model')\n",
        "svm_model=joblib.load('Churn Predict Model')\n",
        "dt_model=joblib.load('Churn Predict Model')"
      ]
    },
    {
      "cell_type": "code",
      "execution_count": 64,
      "metadata": {},
      "outputs": [
        {
          "data": {
            "text/plain": [
              "Index(['gender', 'SeniorCitizen', 'Partner', 'Dependents', 'tenure',\n",
              "       'PhoneService', 'MultipleLines', 'InternetService', 'OnlineSecurity',\n",
              "       'OnlineBackup', 'DeviceProtection', 'TechSupport', 'StreamingTV',\n",
              "       'StreamingMovies', 'Contract', 'PaperlessBilling', 'MonthlyCharges',\n",
              "       'TotalCharges', 'Churn'],\n",
              "      dtype='object')"
            ]
          },
          "execution_count": 64,
          "metadata": {},
          "output_type": "execute_result"
        }
      ],
      "source": [
        "CustomersDataset.columns "
      ]
    },
    {
      "cell_type": "code",
      "execution_count": 65,
      "metadata": {},
      "outputs": [
        {
          "data": {
            "text/html": [
              "<div>\n",
              "<style scoped>\n",
              "    .dataframe tbody tr th:only-of-type {\n",
              "        vertical-align: middle;\n",
              "    }\n",
              "\n",
              "    .dataframe tbody tr th {\n",
              "        vertical-align: top;\n",
              "    }\n",
              "\n",
              "    .dataframe thead th {\n",
              "        text-align: right;\n",
              "    }\n",
              "</style>\n",
              "<table border=\"1\" class=\"dataframe\">\n",
              "  <thead>\n",
              "    <tr style=\"text-align: right;\">\n",
              "      <th></th>\n",
              "      <th>gender</th>\n",
              "      <th>SeniorCitizen</th>\n",
              "      <th>Partner</th>\n",
              "      <th>Dependents</th>\n",
              "      <th>tenure</th>\n",
              "      <th>PhoneService</th>\n",
              "      <th>MultipleLines</th>\n",
              "      <th>InternetService</th>\n",
              "      <th>OnlineSecurity</th>\n",
              "      <th>OnlineBackup</th>\n",
              "      <th>DeviceProtection</th>\n",
              "      <th>TechSupport</th>\n",
              "      <th>StreamingTV</th>\n",
              "      <th>StreamingMovies</th>\n",
              "      <th>Contract</th>\n",
              "      <th>PaperlessBilling</th>\n",
              "      <th>MonthlyCharges</th>\n",
              "      <th>TotalCharges</th>\n",
              "      <th>Churn</th>\n",
              "    </tr>\n",
              "  </thead>\n",
              "  <tbody>\n",
              "    <tr>\n",
              "      <th>0</th>\n",
              "      <td>0.0</td>\n",
              "      <td>0.0</td>\n",
              "      <td>1.0</td>\n",
              "      <td>0.0</td>\n",
              "      <td>0.013889</td>\n",
              "      <td>0.0</td>\n",
              "      <td>1.0</td>\n",
              "      <td>0.0</td>\n",
              "      <td>0.0</td>\n",
              "      <td>0.5</td>\n",
              "      <td>0.0</td>\n",
              "      <td>0.0</td>\n",
              "      <td>0.0</td>\n",
              "      <td>0.0</td>\n",
              "      <td>0.0</td>\n",
              "      <td>1.0</td>\n",
              "      <td>0.115423</td>\n",
              "      <td>0.003437</td>\n",
              "      <td>0.0</td>\n",
              "    </tr>\n",
              "    <tr>\n",
              "      <th>1</th>\n",
              "      <td>1.0</td>\n",
              "      <td>0.0</td>\n",
              "      <td>0.0</td>\n",
              "      <td>0.0</td>\n",
              "      <td>0.472222</td>\n",
              "      <td>1.0</td>\n",
              "      <td>0.0</td>\n",
              "      <td>0.0</td>\n",
              "      <td>0.5</td>\n",
              "      <td>0.0</td>\n",
              "      <td>0.5</td>\n",
              "      <td>0.0</td>\n",
              "      <td>0.0</td>\n",
              "      <td>0.0</td>\n",
              "      <td>0.5</td>\n",
              "      <td>0.0</td>\n",
              "      <td>0.385075</td>\n",
              "      <td>0.217564</td>\n",
              "      <td>0.0</td>\n",
              "    </tr>\n",
              "    <tr>\n",
              "      <th>2</th>\n",
              "      <td>1.0</td>\n",
              "      <td>0.0</td>\n",
              "      <td>0.0</td>\n",
              "      <td>0.0</td>\n",
              "      <td>0.027778</td>\n",
              "      <td>1.0</td>\n",
              "      <td>0.0</td>\n",
              "      <td>0.0</td>\n",
              "      <td>0.5</td>\n",
              "      <td>0.5</td>\n",
              "      <td>0.0</td>\n",
              "      <td>0.0</td>\n",
              "      <td>0.0</td>\n",
              "      <td>0.0</td>\n",
              "      <td>0.0</td>\n",
              "      <td>1.0</td>\n",
              "      <td>0.354229</td>\n",
              "      <td>0.012453</td>\n",
              "      <td>1.0</td>\n",
              "    </tr>\n",
              "    <tr>\n",
              "      <th>3</th>\n",
              "      <td>1.0</td>\n",
              "      <td>0.0</td>\n",
              "      <td>0.0</td>\n",
              "      <td>0.0</td>\n",
              "      <td>0.625000</td>\n",
              "      <td>0.0</td>\n",
              "      <td>1.0</td>\n",
              "      <td>0.0</td>\n",
              "      <td>0.5</td>\n",
              "      <td>0.0</td>\n",
              "      <td>0.5</td>\n",
              "      <td>0.5</td>\n",
              "      <td>0.0</td>\n",
              "      <td>0.0</td>\n",
              "      <td>0.5</td>\n",
              "      <td>0.0</td>\n",
              "      <td>0.239303</td>\n",
              "      <td>0.211951</td>\n",
              "      <td>0.0</td>\n",
              "    </tr>\n",
              "    <tr>\n",
              "      <th>4</th>\n",
              "      <td>0.0</td>\n",
              "      <td>0.0</td>\n",
              "      <td>0.0</td>\n",
              "      <td>0.0</td>\n",
              "      <td>0.027778</td>\n",
              "      <td>1.0</td>\n",
              "      <td>0.0</td>\n",
              "      <td>0.5</td>\n",
              "      <td>0.0</td>\n",
              "      <td>0.0</td>\n",
              "      <td>0.0</td>\n",
              "      <td>0.0</td>\n",
              "      <td>0.0</td>\n",
              "      <td>0.0</td>\n",
              "      <td>0.0</td>\n",
              "      <td>1.0</td>\n",
              "      <td>0.521891</td>\n",
              "      <td>0.017462</td>\n",
              "      <td>1.0</td>\n",
              "    </tr>\n",
              "  </tbody>\n",
              "</table>\n",
              "</div>"
            ],
            "text/plain": [
              "   gender  SeniorCitizen  Partner  Dependents    tenure  PhoneService  \\\n",
              "0     0.0            0.0      1.0         0.0  0.013889           0.0   \n",
              "1     1.0            0.0      0.0         0.0  0.472222           1.0   \n",
              "2     1.0            0.0      0.0         0.0  0.027778           1.0   \n",
              "3     1.0            0.0      0.0         0.0  0.625000           0.0   \n",
              "4     0.0            0.0      0.0         0.0  0.027778           1.0   \n",
              "\n",
              "   MultipleLines  InternetService  OnlineSecurity  OnlineBackup  \\\n",
              "0            1.0              0.0             0.0           0.5   \n",
              "1            0.0              0.0             0.5           0.0   \n",
              "2            0.0              0.0             0.5           0.5   \n",
              "3            1.0              0.0             0.5           0.0   \n",
              "4            0.0              0.5             0.0           0.0   \n",
              "\n",
              "   DeviceProtection  TechSupport  StreamingTV  StreamingMovies  Contract  \\\n",
              "0               0.0          0.0          0.0              0.0       0.0   \n",
              "1               0.5          0.0          0.0              0.0       0.5   \n",
              "2               0.0          0.0          0.0              0.0       0.0   \n",
              "3               0.5          0.5          0.0              0.0       0.5   \n",
              "4               0.0          0.0          0.0              0.0       0.0   \n",
              "\n",
              "   PaperlessBilling  MonthlyCharges  TotalCharges  Churn  \n",
              "0               1.0        0.115423      0.003437    0.0  \n",
              "1               0.0        0.385075      0.217564    0.0  \n",
              "2               1.0        0.354229      0.012453    1.0  \n",
              "3               0.0        0.239303      0.211951    0.0  \n",
              "4               1.0        0.521891      0.017462    1.0  "
            ]
          },
          "execution_count": 65,
          "metadata": {},
          "output_type": "execute_result"
        }
      ],
      "source": [
        "CustomersDataset.head()"
      ]
    },
    {
      "cell_type": "markdown",
      "metadata": {},
      "source": [
        "# Predict Using Our Model\n",
        "---"
      ]
    },
    {
      "cell_type": "code",
      "execution_count": 66,
      "metadata": {},
      "outputs": [
        {
          "name": "stdout",
          "output_type": "stream",
          "text": [
            "Predict Using Logistic Regression [0.]\n",
            "Predict Using SVM [0.]\n",
            "Predict Using Decision Tree Classifier [0.]\n"
          ]
        }
      ],
      "source": [
        "print('Predict Using Logistic Regression',lr_model.predict([[0.0,0.0,1.0,0.0,1,0.0,1.0,0.0,0.0,0.5,0.0,0.0,0.0,0.0,0.0,1.0,29.85,29.85]]))\n",
        "print('Predict Using SVM',svm_model.predict([[0.0,0.0,1.0,0.0,1,0.0,1.0,0.0,0.0,0.5,0.0,0.0,0.0,0.0,0.0,1.0,29.85,29.85]]))\n",
        "print('Predict Using Decision Tree Classifier',dt_model.predict([[0.0,0.0,1.0,0.0,1,0.0,1.0,0.0,0.0,0.5,0.0,0.0,0.0,0.0,0.0,1.0,29.85,29.85]]))\n"
      ]
    },
    {
      "cell_type": "markdown",
      "metadata": {},
      "source": [
        "# *Let User input* Data and Using this Data to Predict\n",
        "---"
      ]
    },
    {
      "cell_type": "code",
      "execution_count": 67,
      "metadata": {},
      "outputs": [],
      "source": [
        "# print(\"Please enter the required data for prediction\", lr_model.predict([[float(input('gender')), float(input('SeniorCitizen')), float(input('Partner')), float(input('Dependents')), float(input('tenure')),float(input('PhoneService')), float(input('MultipleLines')), float(input('InternetService')), float(input('OnlineSecurity')), float(input('OnlineBackup')), float(input('DeviceProtection')), float(input('TechSupport')), float(input('StreamingTV')),float(input('StreamingMovies')), float(input('Contract')), float(input('PaperlessBilling')), float(input('MonthlyCharges')),float(input('TotalCharges'))]]))\n",
        "# print(\"Please enter the required data for prediction\", svm_model.predict([[float(input('gender')), float(input('SeniorCitizen')), float(input('Partner')), float(input('Dependents')), float(input('tenure')),float(input('PhoneService')), float(input('MultipleLines')), float(input('InternetService')), float(input('OnlineSecurity')), float(input('OnlineBackup')), float(input('DeviceProtection')), float(input('TechSupport')), float(input('StreamingTV')),float(input('StreamingMovies')), float(input('Contract')), float(input('PaperlessBilling')), float(input('MonthlyCharges')),float(input('TotalCharges'))]]))\n",
        "# print(\"Please enter the required data for prediction\", dt_model.predict([[float(input('gender')), float(input('SeniorCitizen')), float(input('Partner')), float(input('Dependents')), float(input('tenure')),float(input('PhoneService')), float(input('MultipleLines')), float(input('InternetService')), float(input('OnlineSecurity')), float(input('OnlineBackup')), float(input('DeviceProtection')), float(input('TechSupport')), float(input('StreamingTV')),float(input('StreamingMovies')), float(input('Contract')), float(input('PaperlessBilling')), float(input('MonthlyCharges')),float(input('TotalCharges'))]]))"
      ]
    },
    {
      "cell_type": "code",
      "execution_count": 68,
      "metadata": {},
      "outputs": [
        {
          "name": "stdout",
          "output_type": "stream",
          "text": [
            "Predict Using Logistic Regression [0.]\n",
            "Predict Using SVM [0.]\n",
            "Predict Using Decision Tree Classifier [0.]\n"
          ]
        }
      ],
      "source": [
        "print('Predict Using Logistic Regression',lr_model.predict([[0.0,0.0,1.0,0.0,1,0.0,1.0,0.0,0.0,0.5,0.0,0.0,0.0,0.0,0.0,1.0,29.85,29.85]]))\n",
        "print('Predict Using SVM',svm_model.predict([[0.0,0.0,1.0,0.0,1,0.0,1.0,0.0,0.0,0.5,0.0,0.0,0.0,0.0,0.0,1.0,29.85,29.85]]))\n",
        "print('Predict Using Decision Tree Classifier',dt_model.predict([[0.0,0.0,1.0,0.0,1,0.0,1.0,0.0,0.0,0.5,0.0,0.0,0.0,0.0,0.0,1.0,29.85,29.85]]))"
      ]
    },
    {
      "cell_type": "markdown",
      "metadata": {},
      "source": [
        "# GUI Using Tkinter \n",
        "---"
      ]
    },
    {
      "cell_type": "code",
      "execution_count": 69,
      "metadata": {},
      "outputs": [],
      "source": [
        "from tkinter import *\n",
        "from tkinter import messagebox"
      ]
    },
    {
      "cell_type": "markdown",
      "metadata": {},
      "source": [
        "### Adding items that need"
      ]
    },
    {
      "cell_type": "code",
      "execution_count": 70,
      "metadata": {},
      "outputs": [],
      "source": [
        "app=Tk()\n",
        "\n",
        "# Function that used to disply the data we need \n",
        "# Data Visualization for our data\n",
        "def Visualization(): \n",
        "\n",
        "    top = Toplevel()\n",
        "    top.geometry(\"500x500\")\n",
        "    top.title(\"    Data Visualization  \")\n",
        "    \n",
        "    def dis_1 ():\n",
        "        sns.countplot(CustomersDataset[\"Churn\"])\n",
        "        plt.show()\n",
        "\n",
        "    def dis_2 ():\n",
        "        sns.heatmap(confusion_matrix(y_test, y_pred), center=True)\n",
        "        plt.show()\n",
        "\n",
        "    def dis_3 ():\n",
        "        sns.heatmap(confusion_matrix(y_test, y_pred_2), center=True)\n",
        "        plt.show()\n",
        "\n",
        "    def dis_4 ():\n",
        "        sns.heatmap(confusion_matrix(y_test, y_pred_3), center=True)\n",
        "        plt.show()\n",
        "\n",
        "\n",
        "    def dis_5 ():\n",
        "        sns.barplot(final_data_Accuracy['Models'], final_data_Accuracy['Accuracy'])\n",
        "        plt.show()\n",
        "\n",
        "\n",
        "    def dis_6 ():\n",
        "        sns.barplot(final_data_Precision['Models'], final_data_Precision['PRECISION'])\n",
        "        plt.show()\n",
        "\n",
        "    def dis_7 ():\n",
        "        sns.barplot(final_data_Recall['Models'], final_data_Recall['Recall'])\n",
        "        plt.show()\n",
        "\n",
        "    def dis_8 ():\n",
        "        sns.barplot(final_data_F1_Score['Models'], final_data_F1_Score['F1_Score'])\n",
        "        plt.show()\n",
        "\n",
        "    Button(top,text=\"CustomersDataset[Churn]\",padx=20,pady=10,borderwidth=2.5,command=dis_1).place(x=50,y=50)\n",
        "    Button(top,text=\"Confusion Matrix of\\n Logistic Regression\",padx=20,pady=10,borderwidth=2.5,command=dis_2).place(x=250,y=50)\n",
        "    Button(top,text=\"Confusion Matrix of\\n     SVM\",padx=20,pady=10,borderwidth=2.5,command=dis_3).place(x=50,y=150)\n",
        "    Button(top,text=\"Confusion Matrix of\\n Decision Tree Classifier\",padx=20,pady=10,borderwidth=2.5,command=dis_4).place(x=250,y=150)\n",
        "    Button(top,text=\"Final Data Accuracy\",padx=20,pady=10,borderwidth=2.5,command=dis_5).place(x=50,y=250)\n",
        "    Button(top,text=\"Final Data Precision\",padx=20,pady=10,borderwidth=2.5,command=dis_6).place(x=250,y=250)\n",
        "    Button(top,text=\"Final Data Recall\",padx=20,pady=10,borderwidth=2.5,command=dis_7).place(x=50,y=350)\n",
        "    Button(top,text=\"Final Data F1_Score\",padx=20,pady=10,borderwidth=2.5,command=dis_8).place(x=250,y=350)\n",
        "\n",
        "# Rest make all Input Fields are clear to input new data\n",
        "def Rest():\n",
        "    E_Customer_ID.delete(0,END)\n",
        "    E_Gender.delete(0,END)\n",
        "    E_Senior_Citizen.delete(0,END)\n",
        "    E_Partner.delete(0,END)\n",
        "    E_Dependents.delete(0,END)\n",
        "    E_Tenure.delete(0,END)\n",
        "    E_Phone_Service.delete(0,END)\n",
        "    E_Multiple_Lines.delete(0,END)\n",
        "    E_Internet_Service.delete(0,END)\n",
        "    E_Online_Security.delete(0,END)\n",
        "    E_Online_Backup.delete(0,END)\n",
        "    E_Device_Protection.delete(0,END)\n",
        "    E_TechSupport.delete(0,END)\n",
        "    E_Streaming_TV.delete(0,END)\n",
        "    E_Streaming_Movies.delete(0,END)\n",
        "    E_Contract.delete(0,END)\n",
        "    E_Paperless_Billing.delete(0,END)\n",
        "    E_Monthly_Charges.delete(0,END)\n",
        "    E_Total_Charges.delete(0,END)\n",
        "    E_Payment_Method.delete(0,END)\n",
        "\n",
        "def Display_Train():\n",
        "    messagebox.showinfo(\"    Data are relative to Train\",f\"LogisticRegression_Model Train\\n    Score\\Accuracy = {LR_model.score(x_train,y_train)} \\n\\nSVM_Model Train \\n    Score\\Accuracy = {svm.score(x_train,y_train)} \\n\\nDecision_Tree_Model Train  \\n   Score\\Accuracy = {dt.score(x_train,y_train)}\\n\\n\")\n",
        "    # print(\"LogisticRegression_Model Train Score\\Accuracy =\", LR_model.score(x_train,y_train))\n",
        "    # print(\"SVM_Model Train Score\\Accuracy =\", svm.score(x_train,y_train))\n",
        "    # print(\"Decision_Tree_Model Train Score\\Accuracy =\", dt.score(x_train,y_train))\n",
        "\n",
        "def Display_Test():\n",
        "    messagebox.showinfo(\"    Data are relative to Test\",f\"Churn Predict Model Accuracy Score\\n{final_data_Accuracy}\\n\\nChurn Predict Model Precision Score\\n{final_data_Precision}\\n\\nChurn Predict Model Recall Score\\n{final_data_Recall}\\n\\n Churn Predict Model F1_Score\\n{final_data_F1_Score}\\n\\nThe confusion matrix For \\\"Test\\\" LogisticRegression_Model\\n{confusion_matrix(y_test,y_pred)}\\n\\nThe confusion matrix For \\\"Test\\\" SVM_Model\\n{confusion_matrix(y_test,y_pred_2)}\\n\\nThe confusion matrix For \\\"Test\\\" DecisionTreeClassifier_Model\\n{confusion_matrix(y_test,y_pred_3)}\\n\\n\")\n",
        "    # print('***************************************************************************************************************************************')\n",
        "    # print(\"Churn Predict Model Accuracy Score\\n\",final_data_Accuracy)\n",
        "    # print(\"Churn Predict Model Precision Score\\n\",final_data_Precision)\n",
        "    # print(\"Churn Predict Model Recall Score\\n\",final_data_Recall)\n",
        "    # print(\"Churn Predict Model F1_Score\\n\",final_data_F1_Score)\n",
        "    # print(\"The confusion matrix For \\\"Test\\\" LogisticRegression_Model\\n\",confusion_matrix(y_test,y_pred))\n",
        "    # print(\"The confusion matrix For \\\"Test\\\" SVM_Model\\n\",confusion_matrix(y_test,y_pred_2))\n",
        "    # print(\"The confusion matrix For \\\"Test\\\" DecisionTreeClassifier_Model\\n\",confusion_matrix(y_test,y_pred_3))\n",
        "    # print('********************************************************************************************************************')\n",
        "\n",
        "\n",
        "def Predict_Ndata ():\n",
        "    global E_Gender_val\n",
        "    global E_Senior_Citizen_val\n",
        "    global E_Partner_val\n",
        "    global E_Dependents_val\n",
        "    global E_Tenure_val\n",
        "\n",
        "    global E_Phone_Service_val\n",
        "    global E_Multiple_Lines_val\n",
        "    global E_Internet_Service_val\n",
        "    global E_Online_Security_val\n",
        "\n",
        "    global E_Online_Backup_val\n",
        "    global E_Device_Protection_val\n",
        "    global E_TechSupport_val\n",
        "    global E_Streaming_TV_val\n",
        "\n",
        "    global E_Streaming_Movies_val\n",
        "    global E_Contract_val\n",
        "    global E_Paperless_Billing_val\n",
        "    global E_Monthly_Charges_val\n",
        "    global E_Total_Charges_val\n",
        "\n",
        "    E_Monthly_Charges_val =E_Monthly_Charges .get()\n",
        "    E_Total_Charges_val =E_Total_Charges.get()\n",
        "    E_Tenure_val = E_Tenure.get()\n",
        "\n",
        "    # E_Partner\n",
        "    if E_Partner.get()==\"no\" or E_Partner.get()==\"No\" or E_Partner.get()==\"NO\":\n",
        "        E_Partner_val =0\n",
        "    if E_Partner.get()==\"yes\" or E_Partner.get()==\"Yes\" or E_Partner.get()==\"YES\":\n",
        "        E_Partner_val =1 #############\n",
        "\n",
        "    # E_Dependents\n",
        "    if E_Dependents.get()==\"no\" or E_Dependents.get()==\"No\" or E_Dependents.get()==\"NO\":\n",
        "        E_Dependents_val =0\n",
        "    if E_Dependents.get()==\"yes\" or E_Dependents.get()==\"Yes\" or E_Dependents.get()==\"YES\":\n",
        "        E_Dependents_val =1 #############\n",
        "\n",
        "    # E_Phone_Service\n",
        "    if E_Phone_Service.get()==\"no\" or E_Phone_Service.get()==\"No\" or E_Phone_Service.get()==\"NO\":\n",
        "        E_Phone_Service_val =0\n",
        "    if E_Phone_Service.get()==\"yes\" or E_Phone_Service.get()==\"Yes\" or E_Phone_Service.get()==\"YES\":\n",
        "        E_Phone_Service_val =1 #############\n",
        "\n",
        "    # E_Paperless_Billing\n",
        "    if E_Paperless_Billing.get()==\"no\" or E_Paperless_Billing.get()==\"No\" or E_Paperless_Billing.get()==\"NO\":\n",
        "        E_Paperless_Billing_val =0\n",
        "    if E_Paperless_Billing.get()==\"yes\" or E_Paperless_Billing.get()==\"Yes\" or E_Paperless_Billing.get()==\"YES\":\n",
        "        E_Paperless_Billing_val =1 #############\n",
        "\n",
        "    # E_Senior_Citizen\n",
        "    if E_Senior_Citizen.get()==\"no\" or E_Senior_Citizen.get()==\"No\" or E_Senior_Citizen.get()==\"NO\":\n",
        "        E_Senior_Citizen_val =0\n",
        "    if E_Senior_Citizen.get()==\"yes\" or E_Senior_Citizen.get()==\"Yes\" or E_Senior_Citizen.get()==\"YES\":\n",
        "        E_Senior_Citizen_val =1 #############\n",
        "\n",
        "\n",
        "    # E_Gender\n",
        "    if E_Gender.get()==\"Female\" or E_Gender.get()==\"female\" or E_Gender.get()==\"FEMALE\":\n",
        "        E_Gender_val =0\n",
        "    if E_Gender.get()==\"Male\" or E_Gender.get()==\"male\" or E_Gender.get()==\"MALE\":\n",
        "        E_Gender_val =1 #############\n",
        "\n",
        "\n",
        "    # E_Multiple_Lines\n",
        "    if E_Multiple_Lines.get()==\"no\" or E_Multiple_Lines.get()==\"No\" or E_Multiple_Lines.get()==\"NO\":\n",
        "        E_Multiple_Lines_val =0\n",
        "    if E_Multiple_Lines.get()==\"yes\" or E_Multiple_Lines.get()==\"Yes\" or E_Multiple_Lines.get()==\"YES\":\n",
        "        E_Multiple_Lines_val =1\n",
        "    if E_Multiple_Lines.get()==\"No phone service\" or E_Multiple_Lines.get()==\"no phone service\" :\n",
        "        E_Multiple_Lines_val =2 #############\n",
        "\n",
        "    # E_Internet_Service\n",
        "    if E_Internet_Service.get()==\"DSL\" or E_Internet_Service.get()==\"dsl\":\n",
        "        E_Internet_Service_val =0\n",
        "    if E_Internet_Service.get()==\"Fiber obtic\" or E_Internet_Service.get()==\"FIBER OBTIC\" or E_Internet_Service.get()==\"Fiber Obtic\":\n",
        "        E_Internet_Service_val =1\n",
        "    if E_Internet_Service.get()==\"No\" or E_Multiple_Lines.get()==\"no\" or E_Multiple_Lines.get()==\"NO\" :\n",
        "        E_Internet_Service_val =2 #############\n",
        "\n",
        "    # E_Online_Security\n",
        "    if E_Online_Security.get()==\"no\" or E_Online_Security.get()==\"No\" or E_Online_Security.get()==\"NO\":\n",
        "        E_Online_Security_val =0\n",
        "    if E_Online_Security.get()==\"yes\" or E_Online_Security.get()==\"Yes\" or E_Online_Security.get()==\"YES\":\n",
        "        E_Online_Security_val =1\n",
        "    if E_Online_Security.get()==\"No internet service\" or E_Online_Security.get()==\"no internet service\" :\n",
        "        E_Online_Security_val =2 #############\n",
        "\n",
        "    # E_Online_Backup    \n",
        "    if E_Online_Backup.get()==\"no\" or E_Online_Backup.get()==\"No\" or E_Online_Backup.get()==\"NO\":\n",
        "        E_Online_Backup_val =0\n",
        "    if E_Online_Backup.get()==\"yes\" or E_Online_Backup.get()==\"Yes\" or E_Online_Backup.get()==\"YES\":\n",
        "        E_Online_Backup_val =1\n",
        "    if E_Online_Backup.get()==\"No internet service\" or E_Online_Backup.get()==\"no internet service\" :\n",
        "        E_Online_Backup_val =2 #############\n",
        "\n",
        "    # E_Device_Protection\n",
        "    if E_Device_Protection.get()==\"no\" or E_Device_Protection.get()==\"No\" or E_Device_Protection.get()==\"NO\":\n",
        "        E_Device_Protection_val =0\n",
        "    if E_Device_Protection.get()==\"yes\" or E_Device_Protection.get()==\"Yes\" or E_Device_Protection.get()==\"YES\":\n",
        "        E_Device_Protection_val =1\n",
        "    if E_Device_Protection.get()==\"No internet service\" or E_Device_Protection.get()==\"no internet service\" :\n",
        "        E_Device_Protection_val =2 #############\n",
        "\n",
        "    # E_TechSupport\n",
        "    if E_TechSupport.get()==\"no\" or E_TechSupport.get()==\"No\" or E_TechSupport.get()==\"NO\":\n",
        "        E_TechSupport_val =0\n",
        "    if E_TechSupport.get()==\"yes\" or E_TechSupport.get()==\"Yes\" or E_TechSupport.get()==\"YES\":\n",
        "        E_TechSupport_val =1\n",
        "    if E_TechSupport.get()==\"No internet service\" or E_TechSupport.get()==\"no internet service\" :\n",
        "        E_TechSupport_val =2 #############\n",
        "\n",
        "    # E_Streaming_TV\n",
        "    if E_Streaming_TV.get()==\"no\" or E_Streaming_TV.get()==\"No\" or E_Streaming_TV.get()==\"NO\":\n",
        "        E_Streaming_TV_val =0\n",
        "    if E_Streaming_TV.get()==\"yes\" or E_Streaming_TV.get()==\"Yes\" or E_Streaming_TV.get()==\"YES\":\n",
        "        E_Streaming_TV_val =1\n",
        "    if E_Streaming_TV.get()==\"No internet service\" or E_Streaming_TV.get()==\"no internet service\" :\n",
        "        E_Streaming_TV_val =2 #############\n",
        "\n",
        "    # E_Streaming_Movies\n",
        "    if E_Streaming_Movies.get()==\"no\" or E_Streaming_Movies.get()==\"No\" or E_Streaming_Movies.get()==\"NO\":\n",
        "        E_Streaming_Movies_val =0\n",
        "    if E_Streaming_Movies.get()==\"yes\" or E_Streaming_Movies.get()==\"Yes\" or E_Streaming_Movies.get()==\"YES\":\n",
        "        E_Streaming_Movies_val =1\n",
        "    if E_Streaming_Movies.get()==\"No internet service\" or E_Streaming_Movies.get()==\"no internet service\" :\n",
        "        E_Streaming_Movies_val =2 #############\n",
        "\n",
        "    # E_Contract   \n",
        "    if E_Contract.get()==\"Month-to-month\" or E_Contract.get()==\"month-to-month\" or E_Contract.get()==\"month to month\" or E_Contract.get()==\"Month to month\":\n",
        "        E_Contract_val =0\n",
        "    if E_Contract.get()==\"One year\" or E_Contract.get()==\"one year\":\n",
        "        E_Contract_val =1\n",
        "    if E_Contract.get()==\"Two year\" or E_Contract.get()==\"two year\" :\n",
        "        E_Contract_val =2 #############\n",
        "\n",
        "    else :\n",
        "        messagebox.showerror(\"    ERORR!!!!\",\"\\n    INVALED DATA \\n \")\n",
        "\n",
        "\n",
        "\n",
        "\n",
        "    # print('Predict Using Logistic Regression',lr_model.predict([[E_Gender_val,E_Senior_Citizen_val,E_Partner_val,E_Dependents_val,E_Tenure_val,E_Phone_Service_val,E_Multiple_Lines_val,E_Internet_Service_val,E_Online_Security_val,E_Online_Backup_val,E_Device_Protection_val,E_TechSupport_val,E_Streaming_TV_val,E_Streaming_Movies_val,E_Contract_val,E_Paperless_Billing_val,E_Monthly_Charges_val,E_Total_Charges_val]]))\n",
        "    # print('Predict Using SVM',svm_model.predict([[E_Gender_val,E_Senior_Citizen_val,E_Partner_val,E_Dependents_val,E_Tenure_val,E_Phone_Service_val,E_Multiple_Lines_val,E_Internet_Service_val,E_Online_Security_val,E_Online_Backup_val,E_Device_Protection_val,E_TechSupport_val,E_Streaming_TV_val,E_Streaming_Movies_val,E_Contract_val,E_Paperless_Billing_val,E_Monthly_Charges_val,E_Total_Charges_val]]))\n",
        "    # print('Predict Using Decision Tree Classifier',dt_model.predict([[E_Gender_val,E_Senior_Citizen_val,E_Partner_val,E_Dependents_val,E_Tenure_val,E_Phone_Service_val,E_Multiple_Lines_val,E_Internet_Service_val,E_Online_Security_val,E_Online_Backup_val,E_Device_Protection_val,E_TechSupport_val,E_Streaming_TV_val,E_Streaming_Movies_val,E_Contract_val,E_Paperless_Billing_val,E_Monthly_Charges_val,E_Total_Charges_val]]))\n",
        "\n",
        "    # Index(['gender', 'SeniorCitizen', 'Partner', 'Dependents', 'tenure',\n",
        "    #    'PhoneService', 'MultipleLines', 'InternetService', 'OnlineSecurity',\n",
        "    #    'OnlineBackup', 'DeviceProtection', 'TechSupport', 'StreamingTV',\n",
        "    #    'StreamingMovies', 'Contract', 'PaperlessBilling', 'MonthlyCharges',\n",
        "    #    'TotalCharges'],\n",
        "    # E_Customer_ID\n",
        "    # E_Payment_Method\n",
        "\n",
        "    # Message Box For our Prediction \n",
        "    lr_model_val = lr_model.predict([[E_Gender_val,E_Senior_Citizen_val,E_Partner_val,E_Dependents_val,E_Tenure_val,E_Phone_Service_val,E_Multiple_Lines_val,E_Internet_Service_val,E_Online_Security_val,E_Online_Backup_val,E_Device_Protection_val,E_TechSupport_val,E_Streaming_TV_val,E_Streaming_Movies_val,E_Contract_val,E_Paperless_Billing_val,E_Monthly_Charges_val,E_Total_Charges_val]])\n",
        "    svm_model_val = svm_model.predict([[E_Gender_val,E_Senior_Citizen_val,E_Partner_val,E_Dependents_val,E_Tenure_val,E_Phone_Service_val,E_Multiple_Lines_val,E_Internet_Service_val,E_Online_Security_val,E_Online_Backup_val,E_Device_Protection_val,E_TechSupport_val,E_Streaming_TV_val,E_Streaming_Movies_val,E_Contract_val,E_Paperless_Billing_val,E_Monthly_Charges_val,E_Total_Charges_val]])\n",
        "    dt_model_val = dt_model.predict([[E_Gender_val,E_Senior_Citizen_val,E_Partner_val,E_Dependents_val,E_Tenure_val,E_Phone_Service_val,E_Multiple_Lines_val,E_Internet_Service_val,E_Online_Security_val,E_Online_Backup_val,E_Device_Protection_val,E_TechSupport_val,E_Streaming_TV_val,E_Streaming_Movies_val,E_Contract_val,E_Paperless_Billing_val,E_Monthly_Charges_val,E_Total_Charges_val]])\n",
        "    \n",
        "    global Churn_Predict_LR\n",
        "    global Churn_Predict_SNM\n",
        "    global Churn_Predict_DT\n",
        "\n",
        "    if lr_model_val==1 :\n",
        "        Churn_Predict_LR = \"Yes \"\n",
        "    if lr_model_val==0 :\n",
        "        Churn_Predict_LR = \"No \"\n",
        "\n",
        "        #######################\n",
        "\n",
        "    if svm_model_val==1 :\n",
        "        Churn_Predict_SNM = \"Yes \"\n",
        "    if svm_model_val==0 :\n",
        "        Churn_Predict_SNM = \"No \"\n",
        "\n",
        "        ###########################\n",
        "\n",
        "    if dt_model_val==1 :\n",
        "        Churn_Predict_DT = \"Yes \"\n",
        "    if dt_model_val==0 :\n",
        "        Churn_Predict_DT = \"No \"\n",
        "    \n",
        "    \n",
        "    \n",
        "    messagebox.showinfo(\"  Prediction  \",f\"Churn Predict Using Logistic Regression =  {Churn_Predict_LR}\\nChurn Predict Using SVM =  {Churn_Predict_SNM} \\nChurn Predict Using Decision Tree Classifier  =  {Churn_Predict_DT}\")\n",
        "\n",
        "\n",
        "\n",
        "\n",
        "\n",
        "app.title(\"Churn Predict Model\")\n",
        "app.geometry(\"1000x800\")\n",
        "# methodology 2 Labels\n",
        "Label(app,text='              Mehodology', font=(\"Arial\", 12)).place(x=130,y=4)\n",
        "Label(app,text='               Logistic Regression   -  SVM  -   Decision Tree Classifier', font=(\"Arial\", 12)).place(x=10,y=30)\n",
        "# 2 Buttons to display all data you have for Train & Test\n",
        "Train_btn=Button(app, text='Train', padx=40, pady=10,borderwidth=2.5,command=Display_Train).place(x=230,y=70)\n",
        "Test_btn=Button(app, text='Test', padx=40, pady=10,borderwidth=2.5,command=Display_Test).place(x=350,y=70)\n",
        "# Customer Data 20 Labels & 20 Input Fields\n",
        "Label(app,text='Customer Data', font=(\"Arial\", 10)).place(x=60,y=115)\n",
        "# 20 Labels start Using Place\n",
        "Label(app,text='Customer ID', font=(\"Arial\", 10)).place(x=20,y=180)\n",
        "Label(app,text='Partner', font=(\"Arial\", 10)).place(x=20,y=240)\n",
        "Label(app,text='Phone Service', font=(\"Arial\", 10)).place(x=20,y=300)\n",
        "Label(app,text='Online Security', font=(\"Arial\", 10)).place(x=20,y=360)\n",
        "Label(app,text='TechSupport', font=(\"Arial\", 10)).place(x=20,y=420)\n",
        "Label(app,text='Contract', font=(\"Arial\", 10)).place(x=20,y=480)\n",
        "Label(app,text='Monthly Charges', font=(\"Arial\", 10)).place(x=20,y=540)\n",
        "\n",
        "Label(app,text='Gender', font=(\"Arial\", 10)).place(x=300,y=180)\n",
        "Label(app,text='Dependents', font=(\"Arial\", 10)).place(x=300,y=240)\n",
        "Label(app,text='Multiple Lines', font=(\"Arial\", 10)).place(x=300,y=300)\n",
        "Label(app,text='Online Backup', font=(\"Arial\", 10)).place(x=300,y=360)\n",
        "Label(app,text='Streaming TV', font=(\"Arial\", 10)).place(x=300,y=420)\n",
        "Label(app,text='Paperless Billing', font=(\"Arial\", 10)).place(x=300,y=480)\n",
        "Label(app,text='Total Charges', font=(\"Arial\", 10)).place(x=300,y=540)\n",
        "\n",
        "Label(app,text='Senior Citizen', font=(\"Arial\", 10)).place(x=580,y=180)\n",
        "Label(app,text='Tenure', font=(\"Arial\", 10)).place(x=580,y=240)\n",
        "Label(app,text='Internet Service', font=(\"Arial\", 10)).place(x=580,y=300)\n",
        "Label(app,text='Device Protection', font=(\"Arial\", 10)).place(x=580,y=360)\n",
        "Label(app,text='Streaming Movies', font=(\"Arial\", 10)).place(x=580,y=420)\n",
        "Label(app,text='Payment Method', font=(\"Arial\", 10)).place(x=580,y=480)\n",
        "\n",
        "\n",
        "# 20 Input Fields to take data from user \n",
        "E_Customer_ID=Entry(app,width=20,borderwidth=2.5)\n",
        "E_Customer_ID.place(x=135,y=180)\n",
        "\n",
        "E_Partner=Entry(app,width=20,borderwidth=2.5)\n",
        "E_Partner.place(x=135,y=240)\n",
        "E_Phone_Service=Entry(app,width=20,borderwidth=2.5)\n",
        "E_Phone_Service.place(x=135,y=300)\n",
        "E_Online_Security=Entry(app,width=20,borderwidth=2.5)\n",
        "E_Online_Security.place(x=135,y=360)\n",
        "E_TechSupport=Entry(app,width=20,borderwidth=2.5)\n",
        "E_TechSupport.place(x=135,y=420)\n",
        "E_Contract=Entry(app,width=20,borderwidth=2.5)\n",
        "E_Contract.place(x=135,y=480)\n",
        "E_Monthly_Charges=Entry(app,width=20,borderwidth=2.5)\n",
        "E_Monthly_Charges.place(x=135,y=540)\n",
        "\n",
        "\n",
        "E_Gender=Entry(app,width=20,borderwidth=2.5)\n",
        "E_Gender.place(x=415,y=180)\n",
        "E_Dependents=Entry(app,width=20,borderwidth=2.5)\n",
        "E_Dependents.place(x=415,y=240)\n",
        "E_Multiple_Lines=Entry(app,width=20,borderwidth=2.5)\n",
        "E_Multiple_Lines.place(x=415,y=300)\n",
        "E_Online_Backup=Entry(app,width=20,borderwidth=2.5)\n",
        "E_Online_Backup.place(x=415,y=360)\n",
        "E_Streaming_TV=Entry(app,width=20,borderwidth=2.5)\n",
        "E_Streaming_TV.place(x=415,y=420)\n",
        "E_Paperless_Billing=Entry(app,width=20,borderwidth=2.5)\n",
        "E_Paperless_Billing.place(x=415,y=480)\n",
        "E_Total_Charges=Entry(app,width=20,borderwidth=2.5)\n",
        "E_Total_Charges.place(x=415,y=540)\n",
        "\n",
        "\n",
        "E_Senior_Citizen=Entry(app,width=20,borderwidth=2.5)\n",
        "E_Senior_Citizen.place(x=695,y=180)\n",
        "E_Tenure=Entry(app,width=20,borderwidth=2.5)\n",
        "E_Tenure.place(x=695,y=240)\n",
        "E_Internet_Service=Entry(app,width=20,borderwidth=2.5)\n",
        "E_Internet_Service.place(x=695,y=300)\n",
        "E_Device_Protection=Entry(app,width=20,borderwidth=2.5)\n",
        "E_Device_Protection.place(x=695,y=360)\n",
        "E_Streaming_Movies=Entry(app,width=20,borderwidth=2.5)\n",
        "E_Streaming_Movies.place(x=695,y=420)\n",
        "E_Payment_Method=Entry(app,width=20,borderwidth=2.5)\n",
        "E_Payment_Method.place(x=695,y=480)\n",
        "\n",
        "# Btn to predict using the data user enterd , Btn to clear Input Field to enter new data\n",
        "Predict_btn= Button(app,text='Predict',padx=60,pady=20,borderwidth=2.5,command=Predict_Ndata).place(x=190,y=600)###########command###########\n",
        "Clear_btn= Button(app,text='Rest',padx=60,pady=20,borderwidth=2.5,command=Rest).place(x=372,y=600)###########command###########\n",
        "Data_Visualization= Button(app,text='Data Visualization',padx=60,pady=20,borderwidth=2.5,command=Visualization).place(x=540,y=600)###########command#################################################################\n",
        "\n",
        "\n",
        "\n",
        "\n",
        "\n",
        "\n",
        "\n",
        "\n",
        "\n",
        "\n",
        "app.mainloop() \n"
      ]
    },
    {
      "cell_type": "code",
      "execution_count": null,
      "metadata": {},
      "outputs": [],
      "source": []
    },
    {
      "cell_type": "code",
      "execution_count": null,
      "metadata": {},
      "outputs": [],
      "source": []
    },
    {
      "cell_type": "markdown",
      "metadata": {},
      "source": [
        "# pyinstaller.exe --onefile FileName.py in Terminal"
      ]
    }
  ],
  "metadata": {
    "colab": {
      "collapsed_sections": [],
      "name": "Untitled3.ipynb",
      "provenance": []
    },
    "interpreter": {
      "hash": "fbc768028c3e6ead51d9a200ddcb2ec858ae62844dcd1994729a8279be9b48f2"
    },
    "kernelspec": {
      "display_name": "Python 3.10.1 64-bit",
      "language": "python",
      "name": "python3"
    },
    "language_info": {
      "codemirror_mode": {
        "name": "ipython",
        "version": 3
      },
      "file_extension": ".py",
      "mimetype": "text/x-python",
      "name": "python",
      "nbconvert_exporter": "python",
      "pygments_lexer": "ipython3",
      "version": "3.10.1"
    }
  },
  "nbformat": 4,
  "nbformat_minor": 0
}
